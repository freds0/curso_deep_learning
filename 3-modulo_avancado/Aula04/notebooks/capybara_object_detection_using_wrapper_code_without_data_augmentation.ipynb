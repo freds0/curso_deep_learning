{
  "nbformat": 4,
  "nbformat_minor": 0,
  "metadata": {
    "colab": {
      "name": "capybara_object_detection_using_wrapper_code_without_data_augmentation.ipynb",
      "provenance": [],
      "collapsed_sections": []
    },
    "kernelspec": {
      "name": "python3",
      "display_name": "Python 3"
    },
    "language_info": {
      "name": "python"
    },
    "accelerator": "GPU"
  },
  "cells": [
    {
      "cell_type": "markdown",
      "source": [
        "# Check if GPU is avaliable"
      ],
      "metadata": {
        "id": "ZYhKi0n2Ruc1"
      }
    },
    {
      "cell_type": "code",
      "source": [
        "!nvidia-smi"
      ],
      "metadata": {
        "id": "oZWBiaMyRibx"
      },
      "execution_count": null,
      "outputs": []
    },
    {
      "cell_type": "markdown",
      "source": [
        "# Install Tensorflow Object Detection Requirements"
      ],
      "metadata": {
        "id": "MME_NYtTND86"
      }
    },
    {
      "cell_type": "code",
      "source": [
        "!apt-get update && apt-get install -y \\\n",
        "    protobuf-compiler \\\n",
        "    python3-pip \\\n",
        "    python3-pil \\\n",
        "    python3-lxml \\\n",
        "    python3-opencv"
      ],
      "metadata": {
        "id": "4pdbJgtgZPtV"
      },
      "execution_count": null,
      "outputs": []
    },
    {
      "cell_type": "code",
      "source": [
        "!pip install -U pip\n",
        "!pip install opencv-python-headless==4.1.2.30 tf_slim pycocotools"
      ],
      "metadata": {
        "id": "VOpi5AvogD7T"
      },
      "execution_count": null,
      "outputs": []
    },
    {
      "cell_type": "code",
      "source": [
        "import os\n",
        "os.chdir('/')\n",
        "!git clone https://github.com/tensorflow/models.git /tensorflow/models"
      ],
      "metadata": {
        "id": "sftb588JZfO-"
      },
      "execution_count": null,
      "outputs": []
    },
    {
      "cell_type": "code",
      "source": [
        "os.chdir('/tensorflow/models/research/')\n",
        "!protoc object_detection/protos/*.proto --python_out=."
      ],
      "metadata": {
        "id": "gRgUmJzYa4Zl"
      },
      "execution_count": null,
      "outputs": []
    },
    {
      "cell_type": "code",
      "source": [
        "!cp /tensorflow/models/research/object_detection/packages/tf2/setup.py /tensorflow/models/research\n",
        "!cd /tensorflow/models/research/\n",
        "!python -m pip install ."
      ],
      "metadata": {
        "id": "3WPwMDD7a8Pv"
      },
      "execution_count": null,
      "outputs": []
    },
    {
      "cell_type": "code",
      "source": [
        "import tensorflow as tf\n",
        "print(tf.__version__)"
      ],
      "metadata": {
        "id": "uBwFlfCi-rNC"
      },
      "execution_count": null,
      "outputs": []
    },
    {
      "cell_type": "code",
      "source": [
        "os.chdir('/tensorflow/models/research/')\n",
        "!python object_detection/builders/model_builder_tf2_test.py"
      ],
      "metadata": {
        "id": "nhBDFIW19NHC"
      },
      "execution_count": null,
      "outputs": []
    },
    {
      "cell_type": "markdown",
      "source": [
        "# Download Wrapper Code"
      ],
      "metadata": {
        "id": "VZSrdVNhFucj"
      }
    },
    {
      "cell_type": "code",
      "execution_count": null,
      "metadata": {
        "id": "2RZ9REXlYlqu"
      },
      "outputs": [],
      "source": [
        "import os\n",
        "os.chdir('/content/')\n",
        "!git clone https://github.com/freds0/capybara_object_detection"
      ]
    },
    {
      "cell_type": "code",
      "source": [
        "os.chdir('/content/capybara_object_detection')\n",
        "!pip install -r requirements.txt"
      ],
      "metadata": {
        "id": "ThYFLMLEYw3C"
      },
      "execution_count": null,
      "outputs": []
    },
    {
      "cell_type": "markdown",
      "source": [
        "# Download Capybara Dataset"
      ],
      "metadata": {
        "id": "xePg0QRNNNgz"
      }
    },
    {
      "cell_type": "code",
      "source": [
        "os.chdir('/content/capybara_object_detection')\n",
        "os.makedirs('data', exist_ok=True)"
      ],
      "metadata": {
        "id": "9E-kAXxhY3Ka"
      },
      "execution_count": null,
      "outputs": []
    },
    {
      "cell_type": "code",
      "source": [
        "os.chdir('/content/capybara_object_detection/data')\n",
        "!git clone https://github.com/freds0/capybara_dataset"
      ],
      "metadata": {
        "id": "HmJm1xsPR8kK"
      },
      "execution_count": null,
      "outputs": []
    },
    {
      "cell_type": "markdown",
      "source": [
        "# Check Parameters"
      ],
      "metadata": {
        "id": "j5gf5eVWNZ8x"
      }
    },
    {
      "cell_type": "code",
      "source": [
        "!cat /content/capybara_object_detection/config/parameters.yaml"
      ],
      "metadata": {
        "id": "dMI4CedvNVHd"
      },
      "execution_count": null,
      "outputs": []
    },
    {
      "cell_type": "markdown",
      "source": [
        "# Create TFRecord Files"
      ],
      "metadata": {
        "id": "lvMxJ3BvN3c9"
      }
    },
    {
      "cell_type": "code",
      "source": [
        "os.chdir('/content/capybara_object_detection')\n",
        "!python create_tfrecord.py"
      ],
      "metadata": {
        "id": "699NvGledGsa"
      },
      "execution_count": null,
      "outputs": []
    },
    {
      "cell_type": "markdown",
      "source": [
        "# Create Pipeline File Config"
      ],
      "metadata": {
        "id": "7sOXfMTON6ae"
      }
    },
    {
      "cell_type": "code",
      "source": [
        "os.chdir('/content/capybara_object_detection')\n",
        "!python create_pipeline.py"
      ],
      "metadata": {
        "id": "3aDS1GoPf9BI"
      },
      "execution_count": null,
      "outputs": []
    },
    {
      "cell_type": "markdown",
      "source": [
        "# Train Model"
      ],
      "metadata": {
        "id": "pVftEsWvN_qT"
      }
    },
    {
      "cell_type": "code",
      "source": [
        "os.chdir('/content/capybara_object_detection')\n",
        "!python train.py --num_train_steps=1000"
      ],
      "metadata": {
        "id": "6jNA8oJhf94N"
      },
      "execution_count": null,
      "outputs": []
    },
    {
      "cell_type": "markdown",
      "source": [
        "# Check Training Logs"
      ],
      "metadata": {
        "id": "GMb7sLmiN1tt"
      }
    },
    {
      "cell_type": "code",
      "source": [
        "# Load the TensorBoard notebook extension\n",
        "%load_ext tensorboard"
      ],
      "metadata": {
        "id": "gmq99964N0pF"
      },
      "execution_count": null,
      "outputs": []
    },
    {
      "cell_type": "code",
      "source": [
        "%tensorboard --logdir /content/capybara_object_detection/checkpoints/train"
      ],
      "metadata": {
        "id": "699Wnze-OHLC"
      },
      "execution_count": null,
      "outputs": []
    },
    {
      "cell_type": "code",
      "source": [
        "from tensorboard import notebook\n",
        "notebook.list() # View open TensorBoard instances"
      ],
      "metadata": {
        "id": "pXAHLERWOqPg"
      },
      "execution_count": null,
      "outputs": []
    },
    {
      "cell_type": "code",
      "source": [
        "# Control TensorBoard display. If no port is provided, \n",
        "# the most recently launched TensorBoard is used\n",
        "notebook.display(port=6006, height=1000) "
      ],
      "metadata": {
        "id": "YgpOfraoOsho"
      },
      "execution_count": null,
      "outputs": []
    },
    {
      "cell_type": "markdown",
      "source": [
        "# Evaluate Model"
      ],
      "metadata": {
        "id": "zKxW0IQ8FUap"
      }
    },
    {
      "cell_type": "code",
      "source": [
        "os.chdir('/content/capybara_object_detection')\n",
        "!python test.py"
      ],
      "metadata": {
        "id": "y9DKjSKFFVdZ"
      },
      "execution_count": null,
      "outputs": []
    },
    {
      "cell_type": "markdown",
      "source": [
        "# Inference\n",
        "\n",
        "First, export checkpoints to frozen graph."
      ],
      "metadata": {
        "id": "OWbPDZ5ehDV8"
      }
    },
    {
      "cell_type": "code",
      "source": [
        "os.chdir('/content/capybara_object_detection')\n",
        "!python export.py"
      ],
      "metadata": {
        "id": "CURyTUuihDvf"
      },
      "execution_count": null,
      "outputs": []
    },
    {
      "cell_type": "markdown",
      "source": [
        "Now, it's ready to inference at images folder."
      ],
      "metadata": {
        "id": "zwq2EgVUhSxS"
      }
    },
    {
      "cell_type": "code",
      "source": [
        "os.chdir('/content/capybara_object_detection')\n",
        "!python inference.py"
      ],
      "metadata": {
        "id": "RX8BLax_hZPB"
      },
      "execution_count": null,
      "outputs": []
    },
    {
      "cell_type": "markdown",
      "source": [
        "Let's see some images."
      ],
      "metadata": {
        "id": "X0HRoyD-hdP9"
      }
    },
    {
      "cell_type": "code",
      "source": [
        "from IPython.display import Image, display\n",
        "import os, random\n",
        "inference_folder = '/content/capybara_object_detection/output_inference'\n",
        "sample_filename = random.sample(os.listdir(inference_folder), 1)[0]\n",
        "filepath = os.path.join(inference_folder, sample_filename)        \n",
        "display(Image(filename=filepath))"
      ],
      "metadata": {
        "id": "hO8m6AXlhP8R"
      },
      "execution_count": null,
      "outputs": []
    },
    {
      "cell_type": "code",
      "source": [
        "os.chdir('/content/capybara_object_detection')\n",
        "!tar -jcvf checkpoints_capybara_mobilenet_v2.tar.bz checkpoints"
      ],
      "metadata": {
        "id": "Ptu1Jm4oMq0A"
      },
      "execution_count": null,
      "outputs": []
    },
    {
      "cell_type": "code",
      "source": [
        "from google.colab import files\n",
        "files.download('/content/capybara_object_detection/checkpoints_capybara_mobilenet_v2.tar.bz')"
      ],
      "metadata": {
        "id": "4v0RDLEhM1l_"
      },
      "execution_count": null,
      "outputs": []
    }
  ]
}