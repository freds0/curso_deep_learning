{
  "cells": [
    {
      "cell_type": "markdown",
      "metadata": {
        "id": "ZYhKi0n2Ruc1"
      },
      "source": [
        "# Check if GPU is avaliable"
      ]
    },
    {
      "cell_type": "code",
      "execution_count": null,
      "metadata": {
        "id": "oZWBiaMyRibx"
      },
      "outputs": [],
      "source": [
        "!nvidia-smi"
      ]
    },
    {
      "cell_type": "markdown",
      "metadata": {
        "id": "MME_NYtTND86"
      },
      "source": [
        "# Install Tensorflow Object Detection Requirements"
      ]
    },
    {
      "cell_type": "code",
      "execution_count": null,
      "metadata": {
        "id": "4pdbJgtgZPtV"
      },
      "outputs": [],
      "source": [
        "!apt-get update && apt-get install -y \\\n",
        "    protobuf-compiler \\\n",
        "    python3-pip \\\n",
        "    python3-pil \\\n",
        "    python3-lxml \\\n",
        "    python3-opencv"
      ]
    },
    {
      "cell_type": "code",
      "execution_count": null,
      "metadata": {
        "id": "VOpi5AvogD7T"
      },
      "outputs": [],
      "source": [
        "!pip install -U pip\n",
        "!pip install opencv-python-headless==4.1.2.30 tf_slim pycocotools"
      ]
    },
    {
      "cell_type": "code",
      "execution_count": null,
      "metadata": {
        "id": "sftb588JZfO-"
      },
      "outputs": [],
      "source": [
        "import os\n",
        "os.chdir('/')\n",
        "!git clone https://github.com/tensorflow/models.git /tensorflow/models"
      ]
    },
    {
      "cell_type": "code",
      "execution_count": null,
      "metadata": {
        "id": "gRgUmJzYa4Zl"
      },
      "outputs": [],
      "source": [
        "os.chdir('/tensorflow/models/research/')\n",
        "!protoc object_detection/protos/*.proto --python_out=."
      ]
    },
    {
      "cell_type": "code",
      "execution_count": null,
      "metadata": {
        "id": "3WPwMDD7a8Pv"
      },
      "outputs": [],
      "source": [
        "!cp /tensorflow/models/research/object_detection/packages/tf2/setup.py /tensorflow/models/research\n",
        "!cd /tensorflow/models/research/\n",
        "!python -m pip install ."
      ]
    },
    {
      "cell_type": "code",
      "execution_count": null,
      "metadata": {
        "id": "uBwFlfCi-rNC"
      },
      "outputs": [],
      "source": [
        "import tensorflow as tf\n",
        "print(tf.__version__)"
      ]
    },
    {
      "cell_type": "code",
      "execution_count": null,
      "metadata": {
        "id": "nhBDFIW19NHC"
      },
      "outputs": [],
      "source": [
        "os.chdir('/tensorflow/models/research/')\n",
        "!python object_detection/builders/model_builder_tf2_test.py"
      ]
    },
    {
      "cell_type": "markdown",
      "metadata": {
        "id": "VZSrdVNhFucj"
      },
      "source": [
        "# Download Wrapper Code"
      ]
    },
    {
      "cell_type": "code",
      "execution_count": null,
      "metadata": {
        "id": "2RZ9REXlYlqu"
      },
      "outputs": [],
      "source": [
        "import os\n",
        "os.chdir('/content/')\n",
        "!git clone https://github.com/freds0/capybara_object_detection"
      ]
    },
    {
      "cell_type": "code",
      "execution_count": null,
      "metadata": {
        "id": "ThYFLMLEYw3C"
      },
      "outputs": [],
      "source": [
        "os.chdir('/content/capybara_object_detection')\n",
        "!pip install -r requirements.txt"
      ]
    },
    {
      "cell_type": "markdown",
      "metadata": {
        "id": "xePg0QRNNNgz"
      },
      "source": [
        "# Download Capybara Dataset"
      ]
    },
    {
      "cell_type": "code",
      "execution_count": null,
      "metadata": {
        "id": "9E-kAXxhY3Ka"
      },
      "outputs": [],
      "source": [
        "os.chdir('/content/capybara_object_detection')\n",
        "os.makedirs('data', exist_ok=True)"
      ]
    },
    {
      "cell_type": "code",
      "execution_count": null,
      "metadata": {
        "id": "HmJm1xsPR8kK"
      },
      "outputs": [],
      "source": [
        "os.chdir('/content/capybara_object_detection/data')\n",
        "!git clone https://github.com/freds0/capybara_dataset"
      ]
    },
    {
      "cell_type": "markdown",
      "metadata": {
        "id": "j5gf5eVWNZ8x"
      },
      "source": [
        "# Check Parameters"
      ]
    },
    {
      "cell_type": "code",
      "execution_count": null,
      "metadata": {
        "id": "dMI4CedvNVHd"
      },
      "outputs": [],
      "source": [
        "!cat /content/capybara_object_detection/config/parameters_with_data_aug.yaml"
      ]
    },
    {
      "cell_type": "markdown",
      "metadata": {
        "id": "ECMkCIzlSZMN"
      },
      "source": [
        "# Preprocess Data Augmentation"
      ]
    },
    {
      "cell_type": "code",
      "execution_count": null,
      "metadata": {
        "id": "XM879HUDScZF"
      },
      "outputs": [],
      "source": [
        "os.chdir('/content/capybara_object_detection')\n",
        "!python preprocess.py --yaml=/content/capybara_object_detection/config/parameters_with_data_aug.yaml"
      ]
    },
    {
      "cell_type": "markdown",
      "metadata": {
        "id": "lvMxJ3BvN3c9"
      },
      "source": [
        "# Create TFRecord Files"
      ]
    },
    {
      "cell_type": "code",
      "execution_count": null,
      "metadata": {
        "id": "699NvGledGsa"
      },
      "outputs": [],
      "source": [
        "os.chdir('/content/capybara_object_detection')\n",
        "!python create_tfrecord.py --yaml=/content/capybara_object_detection/config/parameters_with_data_aug.yaml"
      ]
    },
    {
      "cell_type": "markdown",
      "metadata": {
        "id": "7sOXfMTON6ae"
      },
      "source": [
        "# Create Pipeline File Config"
      ]
    },
    {
      "cell_type": "code",
      "execution_count": null,
      "metadata": {
        "id": "3aDS1GoPf9BI"
      },
      "outputs": [],
      "source": [
        "os.chdir('/content/capybara_object_detection')\n",
        "!python create_pipeline.py --yaml=/content/capybara_object_detection/config/parameters_with_data_aug.yaml"
      ]
    },
    {
      "cell_type": "markdown",
      "metadata": {
        "id": "pVftEsWvN_qT"
      },
      "source": [
        "# Train Model"
      ]
    },
    {
      "cell_type": "code",
      "execution_count": null,
      "metadata": {
        "id": "6jNA8oJhf94N"
      },
      "outputs": [],
      "source": [
        "os.chdir('/content/capybara_object_detection')\n",
        "!python train.py --yaml=/content/capybara_object_detection/config/parameters_with_data_aug.yaml"
      ]
    },
    {
      "cell_type": "markdown",
      "metadata": {
        "id": "GMb7sLmiN1tt"
      },
      "source": [
        "# Check Training Logs"
      ]
    },
    {
      "cell_type": "code",
      "execution_count": null,
      "metadata": {
        "id": "gmq99964N0pF"
      },
      "outputs": [],
      "source": [
        "# Load the TensorBoard notebook extension\n",
        "%load_ext tensorboard"
      ]
    },
    {
      "cell_type": "code",
      "execution_count": null,
      "metadata": {
        "id": "699Wnze-OHLC"
      },
      "outputs": [],
      "source": [
        "%tensorboard --logdir /content/capybara_object_detection/checkpoints/train"
      ]
    },
    {
      "cell_type": "code",
      "execution_count": null,
      "metadata": {
        "id": "pXAHLERWOqPg"
      },
      "outputs": [],
      "source": [
        "from tensorboard import notebook\n",
        "notebook.list() # View open TensorBoard instances"
      ]
    },
    {
      "cell_type": "code",
      "execution_count": null,
      "metadata": {
        "id": "YgpOfraoOsho"
      },
      "outputs": [],
      "source": [
        "# Control TensorBoard display. If no port is provided, \n",
        "# the most recently launched TensorBoard is used\n",
        "notebook.display(port=6006, height=1000) "
      ]
    },
    {
      "cell_type": "markdown",
      "metadata": {
        "id": "zKxW0IQ8FUap"
      },
      "source": [
        "# Evaluate Model"
      ]
    },
    {
      "cell_type": "code",
      "execution_count": null,
      "metadata": {
        "id": "y9DKjSKFFVdZ"
      },
      "outputs": [],
      "source": [
        "os.chdir('/content/capybara_object_detection')\n",
        "!python test.py --yaml=/content/capybara_object_detection/config/parameters_with_data_aug.yaml"
      ]
    },
    {
      "cell_type": "markdown",
      "source": [
        "# Inference\n",
        "\n",
        "First, export checkpoints to frozen graph."
      ],
      "metadata": {
        "id": "Ro5qKSv3cYCj"
      }
    },
    {
      "cell_type": "code",
      "source": [
        "os.chdir('/content/capybara_object_detection')\n",
        "!python export.py --yaml=/content/capybara_object_detection/config/parameters_with_data_aug.yaml"
      ],
      "metadata": {
        "id": "fJBUTAahdef1"
      },
      "execution_count": null,
      "outputs": []
    },
    {
      "cell_type": "markdown",
      "source": [
        "Now, it's ready to inference at images folder."
      ],
      "metadata": {
        "id": "iKw_hUDydvTZ"
      }
    },
    {
      "cell_type": "code",
      "source": [
        "os.chdir('/content/capybara_object_detection')\n",
        "!python inference.py --yaml=/content/capybara_object_detection/config/parameters_with_data_aug.yaml"
      ],
      "metadata": {
        "id": "1F7NmEL3dN4H"
      },
      "execution_count": null,
      "outputs": []
    },
    {
      "cell_type": "code",
      "source": [
        "from IPython.display import Image, display\n",
        "import os, random\n",
        "inference_folder = '/content/capybara_object_detection/output_inference'\n",
        "sample_filename = random.sample(os.listdir(inference_folder), 1)[0]\n",
        "filepath = os.path.join(inference_folder, sample_filename)        \n",
        "display(Image(filename=filepath))"
      ],
      "metadata": {
        "id": "wH4ho151eO_t"
      },
      "execution_count": null,
      "outputs": []
    },
    {
      "cell_type": "code",
      "source": [
        "from google.colab import files\n",
        "#from io import BytesIO\n",
        "#from PIL import Image\n",
        "\n",
        "uploaded = files.upload()\n",
        "\n",
        "for fn in uploaded.keys():\n",
        "  print('User uploaded file \"{name}\" with length {length} bytes'.format(\n",
        "      name=fn, length=len(uploaded[fn])))"
      ],
      "metadata": {
        "id": "-GOJdo-YcaFF"
      },
      "execution_count": null,
      "outputs": []
    }
  ],
  "metadata": {
    "accelerator": "GPU",
    "colab": {
      "collapsed_sections": [],
      "name": "capybara_object_detection_using_wrapper_code_with_data_augmentation.ipynb",
      "provenance": []
    },
    "kernelspec": {
      "display_name": "Python 3",
      "name": "python3"
    },
    "language_info": {
      "name": "python"
    }
  },
  "nbformat": 4,
  "nbformat_minor": 0
}