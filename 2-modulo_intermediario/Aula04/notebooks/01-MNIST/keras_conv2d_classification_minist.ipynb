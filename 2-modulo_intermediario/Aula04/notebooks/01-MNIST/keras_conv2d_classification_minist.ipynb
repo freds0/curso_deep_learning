{
  "nbformat": 4,
  "nbformat_minor": 5,
  "metadata": {
    "kernelspec": {
      "name": "python3",
      "display_name": "Python 3"
    },
    "colab": {
      "name": "keras_conv2d_classification_minist.ipynb",
      "provenance": [],
      "collapsed_sections": []
    },
    "language_info": {
      "name": "python"
    },
    "accelerator": "GPU"
  },
  "cells": [
    {
      "cell_type": "code",
      "metadata": {
        "scrolled": true,
        "colab": {
          "base_uri": "https://localhost:8080/"
        },
        "id": "fg7YJENcHgdv",
        "outputId": "7f4b5b74-a20e-4e13-e550-97e6c9be4ffe"
      },
      "source": [
        "# https://www.tensorflow.org/tutorials/quickstart/beginner?hl=pt-br\n",
        "import pandas as pd\n",
        "\n",
        "import matplotlib.pyplot as plt\n",
        "import tensorflow as tf\n",
        "\n",
        "from tensorflow import keras\n",
        "from tensorflow.keras import layers\n",
        "\n",
        "print(tf.__version__)\n"
      ],
      "id": "fg7YJENcHgdv",
      "execution_count": 1,
      "outputs": [
        {
          "output_type": "stream",
          "name": "stdout",
          "text": [
            "2.6.0\n"
          ]
        }
      ]
    },
    {
      "cell_type": "code",
      "metadata": {
        "colab": {
          "base_uri": "https://localhost:8080/"
        },
        "id": "g6PY4rVsHgdy",
        "outputId": "38fea3e0-117d-4605-da00-983073cc5881"
      },
      "source": [
        "# http://yann.lecun.com/exdb/mnist/\n",
        "mnist = tf.keras.datasets.mnist\n",
        "\n",
        "(X_train, y_train), (X_test, y_test) = mnist.load_data()"
      ],
      "id": "g6PY4rVsHgdy",
      "execution_count": 2,
      "outputs": [
        {
          "output_type": "stream",
          "name": "stdout",
          "text": [
            "Downloading data from https://storage.googleapis.com/tensorflow/tf-keras-datasets/mnist.npz\n",
            "11493376/11490434 [==============================] - 0s 0us/step\n",
            "11501568/11490434 [==============================] - 0s 0us/step\n"
          ]
        }
      ]
    },
    {
      "cell_type": "code",
      "metadata": {
        "colab": {
          "base_uri": "https://localhost:8080/",
          "height": 277
        },
        "id": "UYGz63v6Hgd0",
        "outputId": "38a594ac-292d-4b52-c930-66a4361fc232"
      },
      "source": [
        "# display 14 random images from the training set\n",
        "import numpy as np\n",
        "np.random.seed(123)\n",
        "\n",
        "rand_14 = np.random.randint(0, X_train.shape[0],14)\n",
        "sample_digits = X_train[rand_14]\n",
        "sample_labels = y_train[rand_14]\n",
        "# code to view the images\n",
        "num_rows, num_cols = 2, 7\n",
        "f, ax = plt.subplots(num_rows, num_cols, figsize=(12,5),\n",
        "                     gridspec_kw={'wspace':0.03, 'hspace':0.01}, \n",
        "                     squeeze=True)\n",
        "\n",
        "for r in range(num_rows):\n",
        "    for c in range(num_cols):\n",
        "        image_index = r * 7 + c\n",
        "        ax[r,c].axis(\"off\")\n",
        "        ax[r,c].imshow(sample_digits[image_index], cmap='gray')\n",
        "        ax[r,c].set_title('No. %d' % sample_labels[image_index])\n",
        "plt.show()\n",
        "plt.close()"
      ],
      "id": "UYGz63v6Hgd0",
      "execution_count": 3,
      "outputs": [
        {
          "output_type": "display_data",
          "data": {
            "image/png": "[encoded data removed]",
            "text/plain": [
              "<Figure size 864x360 with 14 Axes>"
            ]
          },
          "metadata": {
            "needs_background": "light"
          }
        }
      ]
    },
    {
      "cell_type": "code",
      "metadata": {
        "id": "gPfTTT0tHgd1"
      },
      "source": [
        "# re-scale the image data to values between (0.0,1.0]\n",
        "X_train = X_train.astype('float32') / 255.\n",
        "X_test = X_test.astype('float32') / 255."
      ],
      "id": "gPfTTT0tHgd1",
      "execution_count": 4,
      "outputs": []
    },
    {
      "cell_type": "code",
      "metadata": {
        "colab": {
          "base_uri": "https://localhost:8080/"
        },
        "id": "NDRSr2UsHgd3",
        "outputId": "9214365f-652e-4d59-c261-8cfd0061e389"
      },
      "source": [
        "# Add a channels dimension\n",
        "X_train = X_train[..., tf.newaxis]\n",
        "X_test = X_test[..., tf.newaxis]\n",
        "X_train.shape"
      ],
      "id": "NDRSr2UsHgd3",
      "execution_count": 5,
      "outputs": [
        {
          "output_type": "execute_result",
          "data": {
            "text/plain": [
              "(60000, 28, 28, 1)"
            ]
          },
          "metadata": {},
          "execution_count": 5
        }
      ]
    },
    {
      "cell_type": "code",
      "metadata": {
        "colab": {
          "base_uri": "https://localhost:8080/"
        },
        "id": "3XHrHRuMHgd4",
        "outputId": "277d57b6-7d24-4b31-e601-b2ce07fe9f5e"
      },
      "source": [
        "y_train = y_train.reshape(-1,1)\n",
        "y_train.shape"
      ],
      "id": "3XHrHRuMHgd4",
      "execution_count": 6,
      "outputs": [
        {
          "output_type": "execute_result",
          "data": {
            "text/plain": [
              "(60000, 1)"
            ]
          },
          "metadata": {},
          "execution_count": 6
        }
      ]
    },
    {
      "cell_type": "code",
      "metadata": {
        "colab": {
          "base_uri": "https://localhost:8080/"
        },
        "id": "3qtUkuvXHgd5",
        "outputId": "9718bc61-0e3f-45b7-adbd-75599ba883ed"
      },
      "source": [
        "from sklearn.preprocessing import OneHotEncoder\n",
        "# One Hot encode the class labels\n",
        "encoder = OneHotEncoder(sparse=False)\n",
        "y = encoder.fit_transform(y_train)\n",
        "y.shape"
      ],
      "id": "3qtUkuvXHgd5",
      "execution_count": 7,
      "outputs": [
        {
          "output_type": "execute_result",
          "data": {
            "text/plain": [
              "(60000, 10)"
            ]
          },
          "metadata": {},
          "execution_count": 7
        }
      ]
    },
    {
      "cell_type": "code",
      "metadata": {
        "id": "2L04zqRXHgd6"
      },
      "source": [
        "model = tf.keras.models.Sequential([\n",
        "  tf.keras.layers.Conv2D(16, (3, 3), activation='relu', input_shape=(28, 28, 1)),\n",
        "  tf.keras.layers.MaxPooling2D((2, 2)),\n",
        "  tf.keras.layers.Flatten(),\n",
        "  tf.keras.layers.Dense(10, activation='softmax')\n",
        "])\n"
      ],
      "id": "2L04zqRXHgd6",
      "execution_count": 8,
      "outputs": []
    },
    {
      "cell_type": "code",
      "metadata": {
        "id": "sVkSit5BHgd7"
      },
      "source": [
        "model.compile(loss='sparse_categorical_crossentropy',\n",
        "              optimizer='sgd',\n",
        "              metrics=['accuracy'])\n"
      ],
      "id": "sVkSit5BHgd7",
      "execution_count": 9,
      "outputs": []
    },
    {
      "cell_type": "code",
      "metadata": {
        "colab": {
          "base_uri": "https://localhost:8080/"
        },
        "id": "83egndPYHgd8",
        "outputId": "a5012590-3111-4b21-8507-496e618e521a"
      },
      "source": [
        "model.summary()"
      ],
      "id": "83egndPYHgd8",
      "execution_count": 10,
      "outputs": [
        {
          "output_type": "stream",
          "name": "stdout",
          "text": [
            "Model: \"sequential\"\n",
            "_________________________________________________________________\n",
            "Layer (type)                 Output Shape              Param #   \n",
            "=================================================================\n",
            "conv2d (Conv2D)              (None, 26, 26, 16)        160       \n",
            "_________________________________________________________________\n",
            "max_pooling2d (MaxPooling2D) (None, 13, 13, 16)        0         \n",
            "_________________________________________________________________\n",
            "flatten (Flatten)            (None, 2704)              0         \n",
            "_________________________________________________________________\n",
            "dense (Dense)                (None, 10)                27050     \n",
            "=================================================================\n",
            "Total params: 27,210\n",
            "Trainable params: 27,210\n",
            "Non-trainable params: 0\n",
            "_________________________________________________________________\n"
          ]
        }
      ]
    },
    {
      "cell_type": "code",
      "metadata": {
        "colab": {
          "base_uri": "https://localhost:8080/"
        },
        "id": "fOktggI_Hgd9",
        "outputId": "e8a49145-d342-459d-e42f-4878e9168d5f"
      },
      "source": [
        "history = model.fit(X_train, y_train, validation_data=(X_test, y_test), epochs=3)"
      ],
      "id": "fOktggI_Hgd9",
      "execution_count": 11,
      "outputs": [
        {
          "output_type": "stream",
          "name": "stdout",
          "text": [
            "Epoch 1/3\n",
            "1875/1875 [==============================] - 35s 4ms/step - loss: 0.5276 - accuracy: 0.8567 - val_loss: 0.3023 - val_accuracy: 0.9137\n",
            "Epoch 2/3\n",
            "1875/1875 [==============================] - 7s 4ms/step - loss: 0.3053 - accuracy: 0.9111 - val_loss: 0.2692 - val_accuracy: 0.9217\n",
            "Epoch 3/3\n",
            "1875/1875 [==============================] - 7s 4ms/step - loss: 0.2730 - accuracy: 0.9206 - val_loss: 0.2446 - val_accuracy: 0.9302\n"
          ]
        }
      ]
    },
    {
      "cell_type": "code",
      "metadata": {
        "colab": {
          "base_uri": "https://localhost:8080/",
          "height": 549
        },
        "id": "_bTNvAJhHgd9",
        "outputId": "b8427879-8635-4e5a-c757-2270be0b7939"
      },
      "source": [
        "def plot_history(history):\n",
        "    hist = pd.DataFrame(history.history)\n",
        "    hist['epoch'] = history.epoch\n",
        "\n",
        "    plt.figure()\n",
        "    plt.xlabel('Epoch')\n",
        "    plt.ylabel('loss')\n",
        "    plt.plot(hist['epoch'], hist['loss'],\n",
        "           label='loss')\n",
        "    plt.plot(hist['epoch'], hist['val_loss'],\n",
        "           label = 'Val loss')\n",
        "    plt.ylim([0,1])\n",
        "    plt.legend()\n",
        "\n",
        "    plt.figure()\n",
        "    plt.xlabel('Epoch')\n",
        "    plt.ylabel('Accuracy')\n",
        "    plt.plot(hist['epoch'], hist['accuracy'],\n",
        "           label='Train Acc')\n",
        "    plt.plot(hist['epoch'], hist['val_accuracy'],\n",
        "           label = 'Val Acc')\n",
        "    plt.ylim([0,1])\n",
        "    plt.legend()\n",
        "    plt.show()\n",
        "\n",
        "\n",
        "plot_history(history)\n"
      ],
      "id": "_bTNvAJhHgd9",
      "execution_count": 17,
      "outputs": [
        {
          "output_type": "display_data",
          "data": {
            "image/png": "[encoded data removed]",
            "text/plain": [
              "<Figure size 432x288 with 1 Axes>"
            ]
          },
          "metadata": {
            "needs_background": "light"
          }
        },
        {
          "output_type": "display_data",
          "data": {
            "image/png": "[encoded data removed]",
            "text/plain": [
              "<Figure size 432x288 with 1 Axes>"
            ]
          },
          "metadata": {
            "needs_background": "light"
          }
        }
      ]
    },
    {
      "cell_type": "code",
      "metadata": {
        "colab": {
          "base_uri": "https://localhost:8080/"
        },
        "id": "Pp5q0ph3Hgd-",
        "outputId": "6d4d7697-9ad8-40e5-8a1c-6ef31180aa1e"
      },
      "source": [
        "scores = model.evaluate(X_test, y_test)\n",
        "print(\"Accuracy: {}\".format(scores[1]))\n"
      ],
      "id": "Pp5q0ph3Hgd-",
      "execution_count": 13,
      "outputs": [
        {
          "output_type": "stream",
          "name": "stdout",
          "text": [
            "313/313 [==============================] - 1s 3ms/step - loss: 0.2446 - accuracy: 0.9302\n",
            "Accuracy: 0.9301999807357788\n"
          ]
        }
      ]
    },
    {
      "cell_type": "code",
      "metadata": {
        "colab": {
          "base_uri": "https://localhost:8080/"
        },
        "id": "7lE6KoCdHgd-",
        "outputId": "cbab073a-b115-459b-da1a-e8c1a64b9fb4"
      },
      "source": [
        "predictions = model.predict(X_test)\n",
        "print(predictions.shape)\n"
      ],
      "id": "7lE6KoCdHgd-",
      "execution_count": 14,
      "outputs": [
        {
          "output_type": "stream",
          "name": "stdout",
          "text": [
            "(10000, 10)\n"
          ]
        }
      ]
    },
    {
      "cell_type": "code",
      "metadata": {
        "colab": {
          "base_uri": "https://localhost:8080/"
        },
        "id": "CZwtfJCOHgd_",
        "outputId": "e7d7c654-1adb-4d98-a3dc-b2179f3f6578"
      },
      "source": [
        "pred = np.argmax(predictions, axis=1)\n",
        "pred.shape"
      ],
      "id": "CZwtfJCOHgd_",
      "execution_count": 15,
      "outputs": [
        {
          "output_type": "execute_result",
          "data": {
            "text/plain": [
              "(10000,)"
            ]
          },
          "metadata": {},
          "execution_count": 15
        }
      ]
    },
    {
      "cell_type": "code",
      "metadata": {
        "colab": {
          "base_uri": "https://localhost:8080/",
          "height": 277
        },
        "id": "yGWuosliHgd_",
        "outputId": "41e0c551-0890-4354-dfe5-b9ab9c0ac1a4"
      },
      "source": [
        "# display 14 random images from the training set\n",
        "import numpy as np\n",
        "np.random.seed(42)\n",
        "X_test = X_test.reshape(-1, 28, 28)\n",
        "rand_14 = np.random.randint(0, X_test.shape[0],14)\n",
        "#rand_14 = range(14)\n",
        "sample_digits = X_test[rand_14]\n",
        "sample_labels = pred[rand_14]\n",
        "# code to view the images\n",
        "num_rows, num_cols = 2, 7\n",
        "f, ax = plt.subplots(num_rows, num_cols, figsize=(12,5),\n",
        "                     gridspec_kw={'wspace':0.03, 'hspace':0.01}, \n",
        "                     squeeze=True)\n",
        "\n",
        "for r in range(num_rows):\n",
        "    for c in range(num_cols):\n",
        "        image_index = r * 7 + c\n",
        "        ax[r,c].axis(\"off\")\n",
        "        ax[r,c].imshow(sample_digits[image_index], cmap='gray')\n",
        "        ax[r,c].set_title('No. %d' % sample_labels[image_index])\n",
        "plt.show()\n",
        "plt.close()"
      ],
      "id": "yGWuosliHgd_",
      "execution_count": 16,
      "outputs": [
        {
          "output_type": "display_data",
          "data": {
            "image/png": "[encoded data removed]",
            "text/plain": [
              "<Figure size 864x360 with 14 Axes>"
            ]
          },
          "metadata": {
            "needs_background": "light"
          }
        }
      ]
    },
    {
      "cell_type": "code",
      "metadata": {
        "id": "4WdSAcSOHgeA"
      },
      "source": [
        ""
      ],
      "id": "4WdSAcSOHgeA",
      "execution_count": null,
      "outputs": []
    }
  ]
}