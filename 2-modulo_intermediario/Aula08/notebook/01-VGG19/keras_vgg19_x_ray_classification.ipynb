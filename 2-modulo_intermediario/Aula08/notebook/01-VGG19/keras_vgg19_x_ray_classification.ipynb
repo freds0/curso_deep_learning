{
  "nbformat": 4,
  "nbformat_minor": 5,
  "metadata": {
    "accelerator": "GPU",
    "colab": {
      "name": "keras_vgg19_x-ray_classification.ipynb",
      "provenance": [],
      "collapsed_sections": []
    },
    "kernelspec": {
      "display_name": "Python 3",
      "name": "python3"
    },
    "language_info": {
      "name": "python"
    }
  },
  "cells": [
    {
      "cell_type": "markdown",
      "metadata": {
        "id": "MT6p0PtzG7Y3"
      },
      "source": [
        "# Classificação de Imagens usando Transfer Learning\n",
        "\n",
        "Neste notebook vamos realizar a classificação de um conjunto de imagens utilizando a técnica de Transfer Learning."
      ],
      "id": "MT6p0PtzG7Y3"
    },
    {
      "cell_type": "code",
      "metadata": {
        "id": "toxic-animal",
        "scrolled": true
      },
      "source": [
        "# Source: https://towardsdatascience.com/medical-x-ray-%EF%B8%8F-image-classification-using-convolutional-neural-network-9a6d33b1c2a\n",
        "import keras\n",
        "from keras.models import Sequential\n",
        "from keras.layers import Dense, Activation, Dropout, Flatten, Conv2D, MaxPool2D\n",
        "from keras.layers import BatchNormalization\n",
        "\n",
        "import numpy as np\n",
        "import pandas as pd"
      ],
      "id": "toxic-animal",
      "execution_count": null,
      "outputs": []
    },
    {
      "cell_type": "markdown",
      "metadata": {
        "id": "OrV1YlZPG7Jv"
      },
      "source": [
        "Primeiramente, vamos verificar se existe uma GPU em uso:"
      ],
      "id": "OrV1YlZPG7Jv"
    },
    {
      "cell_type": "code",
      "metadata": {
        "colab": {
          "base_uri": "https://localhost:8080/"
        },
        "id": "mzZU4qIonDmA",
        "outputId": "e2008bcb-9b3b-4112-e004-c76adf02b040"
      },
      "source": [
        "import tensorflow as tf\n",
        "tf.test.is_gpu_available() # True/False"
      ],
      "id": "mzZU4qIonDmA",
      "execution_count": null,
      "outputs": [
        {
          "output_type": "stream",
          "name": "stdout",
          "text": [
            "WARNING:tensorflow:From <ipython-input-2-dde10a027810>:2: is_gpu_available (from tensorflow.python.framework.test_util) is deprecated and will be removed in a future version.\n",
            "Instructions for updating:\n",
            "Use `tf.config.list_physical_devices('GPU')` instead.\n"
          ]
        },
        {
          "output_type": "execute_result",
          "data": {
            "text/plain": [
              "True"
            ]
          },
          "metadata": {},
          "execution_count": 2
        }
      ]
    },
    {
      "cell_type": "markdown",
      "metadata": {
        "id": "2PuxbC2bHo4k"
      },
      "source": [
        "A saída esperada é True! "
      ],
      "id": "2PuxbC2bHo4k"
    },
    {
      "cell_type": "markdown",
      "metadata": {
        "id": "Q6FHhXd9N8sr"
      },
      "source": [
        "Agora vamos verificar qual GPU está alocada:"
      ],
      "id": "Q6FHhXd9N8sr"
    },
    {
      "cell_type": "code",
      "metadata": {
        "colab": {
          "base_uri": "https://localhost:8080/"
        },
        "id": "OJxEgONFNpQB",
        "outputId": "4474a669-72e3-4143-8577-a3c2880dfa16"
      },
      "source": [
        "gpu_info = !nvidia-smi\n",
        "gpu_info = '\\n'.join(gpu_info)\n",
        "if gpu_info.find('failed') >= 0:\n",
        "  print('Not connected to a GPU')\n",
        "else:\n",
        "  print(gpu_info)"
      ],
      "id": "OJxEgONFNpQB",
      "execution_count": null,
      "outputs": [
        {
          "output_type": "stream",
          "name": "stdout",
          "text": [
            "Fri Apr  8 19:26:30 2022       \n",
            "+-----------------------------------------------------------------------------+\n",
            "| NVIDIA-SMI 460.32.03    Driver Version: 460.32.03    CUDA Version: 11.2     |\n",
            "|-------------------------------+----------------------+----------------------+\n",
            "| GPU  Name        Persistence-M| Bus-Id        Disp.A | Volatile Uncorr. ECC |\n",
            "| Fan  Temp  Perf  Pwr:Usage/Cap|         Memory-Usage | GPU-Util  Compute M. |\n",
            "|                               |                      |               MIG M. |\n",
            "|===============================+======================+======================|\n",
            "|   0  Tesla P100-PCIE...  Off  | 00000000:00:04.0 Off |                    0 |\n",
            "| N/A   42C    P0    35W / 250W |    375MiB / 16280MiB |      0%      Default |\n",
            "|                               |                      |                  N/A |\n",
            "+-------------------------------+----------------------+----------------------+\n",
            "                                                                               \n",
            "+-----------------------------------------------------------------------------+\n",
            "| Processes:                                                                  |\n",
            "|  GPU   GI   CI        PID   Type   Process name                  GPU Memory |\n",
            "|        ID   ID                                                   Usage      |\n",
            "|=============================================================================|\n",
            "+-----------------------------------------------------------------------------+\n"
          ]
        }
      ]
    },
    {
      "cell_type": "markdown",
      "metadata": {
        "id": "r6n53JTGnJkT"
      },
      "source": [
        "# Download Dataset\n",
        "\n",
        "Vamos baixar o dataset \"Pneumonia X-Ray Images\" que contém de Raio-X do tórax de pacientes com penumonia. Verifique mais informações [neste link](https://www.kaggle.com/pcbreviglieri/pneumonia-xray-images)."
      ],
      "id": "r6n53JTGnJkT"
    },
    {
      "cell_type": "code",
      "source": [
        "!pip install -U gdown"
      ],
      "metadata": {
        "colab": {
          "base_uri": "https://localhost:8080/"
        },
        "id": "SvG7LEIUIRhy",
        "outputId": "70a7ada4-09a4-466c-88c4-d18a92e0a4ed"
      },
      "id": "SvG7LEIUIRhy",
      "execution_count": null,
      "outputs": [
        {
          "output_type": "stream",
          "name": "stdout",
          "text": [
            "Requirement already satisfied: gdown in /usr/local/lib/python3.7/dist-packages (4.2.2)\n",
            "Collecting gdown\n",
            "  Downloading gdown-4.4.0.tar.gz (14 kB)\n",
            "  Installing build dependencies ... \u001b[?25l\u001b[?25hdone\n",
            "  Getting requirements to build wheel ... \u001b[?25l\u001b[?25hdone\n",
            "    Preparing wheel metadata ... \u001b[?25l\u001b[?25hdone\n",
            "Requirement already satisfied: requests[socks] in /usr/local/lib/python3.7/dist-packages (from gdown) (2.23.0)\n",
            "Requirement already satisfied: tqdm in /usr/local/lib/python3.7/dist-packages (from gdown) (4.63.0)\n",
            "Requirement already satisfied: filelock in /usr/local/lib/python3.7/dist-packages (from gdown) (3.6.0)\n",
            "Requirement already satisfied: six in /usr/local/lib/python3.7/dist-packages (from gdown) (1.15.0)\n",
            "Requirement already satisfied: beautifulsoup4 in /usr/local/lib/python3.7/dist-packages (from gdown) (4.6.3)\n",
            "Requirement already satisfied: certifi>=2017.4.17 in /usr/local/lib/python3.7/dist-packages (from requests[socks]->gdown) (2021.10.8)\n",
            "Requirement already satisfied: idna<3,>=2.5 in /usr/local/lib/python3.7/dist-packages (from requests[socks]->gdown) (2.10)\n",
            "Requirement already satisfied: chardet<4,>=3.0.2 in /usr/local/lib/python3.7/dist-packages (from requests[socks]->gdown) (3.0.4)\n",
            "Requirement already satisfied: urllib3!=1.25.0,!=1.25.1,<1.26,>=1.21.1 in /usr/local/lib/python3.7/dist-packages (from requests[socks]->gdown) (1.24.3)\n",
            "Requirement already satisfied: PySocks!=1.5.7,>=1.5.6 in /usr/local/lib/python3.7/dist-packages (from requests[socks]->gdown) (1.7.1)\n",
            "Building wheels for collected packages: gdown\n",
            "  Building wheel for gdown (PEP 517) ... \u001b[?25l\u001b[?25hdone\n",
            "  Created wheel for gdown: filename=gdown-4.4.0-py3-none-any.whl size=14774 sha256=b99c2af25d3ef80b887b2c9bb46b7c1f57da10d7eec5dd5a1a64c53f44f25ba0\n",
            "  Stored in directory: /root/.cache/pip/wheels/fb/c3/0e/c4d8ff8bfcb0461afff199471449f642179b74968c15b7a69c\n",
            "Successfully built gdown\n",
            "Installing collected packages: gdown\n",
            "  Attempting uninstall: gdown\n",
            "    Found existing installation: gdown 4.2.2\n",
            "    Uninstalling gdown-4.2.2:\n",
            "      Successfully uninstalled gdown-4.2.2\n",
            "Successfully installed gdown-4.4.0\n"
          ]
        }
      ]
    },
    {
      "cell_type": "code",
      "metadata": {
        "colab": {
          "base_uri": "https://localhost:8080/"
        },
        "id": "appropriate-charger",
        "outputId": "7ec8b091-8741-4892-b28c-3d2b6c868228"
      },
      "source": [
        "# https://drive.google.com/file/d/1d-nzMjyncn25530nQdWPJWgo-FBMrGxo/view?usp=sharing\n",
        "!gdown --id 1d-nzMjyncn25530nQdWPJWgo-FBMrGxo"
      ],
      "id": "appropriate-charger",
      "execution_count": null,
      "outputs": [
        {
          "output_type": "stream",
          "name": "stdout",
          "text": [
            "/usr/local/lib/python3.7/dist-packages/gdown/cli.py:131: FutureWarning: Option `--id` was deprecated in version 4.3.1 and will be removed in 5.0. You don't need to pass it anymore to use a file ID.\n",
            "  category=FutureWarning,\n",
            "Downloading...\n",
            "From: https://drive.google.com/uc?id=1d-nzMjyncn25530nQdWPJWgo-FBMrGxo\n",
            "To: /content/Pneumonia_X-Ray.zip\n",
            "100% 2.46G/2.46G [00:27<00:00, 90.9MB/s]\n"
          ]
        }
      ]
    },
    {
      "cell_type": "code",
      "metadata": {
        "id": "KTUBHYaNnMrO"
      },
      "source": [
        "import os\n",
        "from zipfile import ZipFile\n",
        "\n",
        "with ZipFile('Pneumonia_X-Ray.zip') as z:\n",
        "    z.extractall('data')"
      ],
      "id": "KTUBHYaNnMrO",
      "execution_count": null,
      "outputs": []
    },
    {
      "cell_type": "markdown",
      "metadata": {
        "id": "05Ny6x1GIE4L"
      },
      "source": [
        "Esse dataset possui 2 classes: Normal e Opacity (Pneumonia)"
      ],
      "id": "05Ny6x1GIE4L"
    },
    {
      "cell_type": "code",
      "metadata": {
        "colab": {
          "base_uri": "https://localhost:8080/"
        },
        "id": "yoAWTrnQ2QHB",
        "outputId": "56d8d59f-e246-461a-e4c9-6fc8c1651b0d"
      },
      "source": [
        "classes = os.listdir('data/chest_xray/train')\n",
        "classes"
      ],
      "id": "yoAWTrnQ2QHB",
      "execution_count": null,
      "outputs": [
        {
          "output_type": "execute_result",
          "data": {
            "text/plain": [
              "['PNEUMONIA', 'NORMAL']"
            ]
          },
          "metadata": {},
          "execution_count": 7
        }
      ]
    },
    {
      "cell_type": "markdown",
      "metadata": {
        "id": "V1Mo2d1t-gKT"
      },
      "source": [
        "# Ploting Images\n",
        "\n",
        "Vamos ver alguns exemplos das imagens."
      ],
      "id": "V1Mo2d1t-gKT"
    },
    {
      "cell_type": "code",
      "metadata": {
        "colab": {
          "base_uri": "https://localhost:8080/",
          "height": 269
        },
        "id": "tRUtU0R31hcl",
        "outputId": "49763d53-ada3-4f24-a0b7-e78335c19500"
      },
      "source": [
        "# plot photos from the UC Merced dataset\n",
        "from matplotlib import pyplot\n",
        "from matplotlib.image import imread\n",
        "\n",
        "nomal_filepath = 'data/chest_xray/train/NORMAL/'\n",
        "pneumonia_filepath = 'data/chest_xray/train/PNEUMONIA/'\n",
        "# plot first few images\n",
        "normal_filename = os.listdir(nomal_filepath)\n",
        "pneumo_filename = os.listdir(pneumonia_filepath)\n",
        "for i in range(9):\n",
        "  # define subplot\n",
        "  pyplot.subplot(330 + 1 + i)\n",
        "  # define filename\n",
        "  if i%2 ==0:\n",
        "    filename = os.path.join(nomal_filepath, normal_filename[i])\n",
        "  else:\n",
        "    filename = os.path.join(pneumonia_filepath, pneumo_filename[i])\n",
        "  # load image pixels\n",
        "  image = imread(filename)\n",
        "  # plot raw pixel data\n",
        "  pyplot.imshow(image)\n",
        "# show the figure\n",
        "pyplot.show()"
      ],
      "id": "tRUtU0R31hcl",
      "execution_count": null,
      "outputs": [
        {
          "output_type": "display_data",
          "data": {
            "text/plain": [
              "<Figure size 432x288 with 9 Axes>"
            ],
            "image/png": "[encoded data removed]"
          },
          "metadata": {
            "needs_background": "light"
          }
        }
      ]
    },
    {
      "cell_type": "markdown",
      "metadata": {
        "id": "tRoSK0e24_zz"
      },
      "source": [
        "# Generators\n",
        "\n",
        "Vamos criar os generators, que são responsáveis por carregar as imagens na memória e realizar quaisquer transformações necessárias. Verifique a documentação oficial [neste link](https://www.tensorflow.org/api_docs/python/tf/keras/preprocessing/image/ImageDataGenerator)."
      ],
      "id": "tRoSK0e24_zz"
    },
    {
      "cell_type": "code",
      "metadata": {
        "colab": {
          "base_uri": "https://localhost:8080/"
        },
        "id": "manufactured-texas",
        "outputId": "686accc5-fad3-47c2-f978-7e86a61d5d70"
      },
      "source": [
        "from keras.preprocessing.image import ImageDataGenerator\n",
        "'''\n",
        "data\n",
        "  ├───test\n",
        "  │   ├───Normal\n",
        "  │   │   ├───image1.jpg\n",
        "  │   │   └───image2.jpg\n",
        "  │   └───Opacity\n",
        "  │       ├───image1.jpg\n",
        "  │       └───image2.jpg\n",
        "  ├───train\n",
        "  │   ├───Normal\n",
        "  │   │   ├───image1.jpg\n",
        "  │   │   └───image2.jpg\n",
        "  │   └───Opacity\n",
        "  │       ├───image1.jpg\n",
        "  │       └───image2.jpg\n",
        "  └───val\n",
        "      ├───Normal\n",
        "      │   ├───image1.jpg\n",
        "      │   └───image2.jpg\n",
        "      └───Opacity\n",
        "          ├───image1.jpg\n",
        "          └───image2.jpg\n",
        "'''\n",
        "# https://www.tensorflow.org/api_docs/python/tf/keras/preprocessing/image/ImageDataGenerator\n",
        "trdata = ImageDataGenerator(\n",
        "    rescale = 1./255,\n",
        "    shear_range = 0.2,\n",
        "    zoom_range = 0.2,\n",
        "    horizontal_flip = True,   \n",
        ")\n",
        "train_data = trdata.flow_from_directory(directory=\"./data/chest_xray/train/\",target_size=(224,224))\n",
        "\n",
        "vldata = ImageDataGenerator(rescale = 1./255)\n",
        "val_data = vldata.flow_from_directory(directory=\"./data/chest_xray/test\", target_size=(224,224))\n",
        "\n"
      ],
      "id": "manufactured-texas",
      "execution_count": null,
      "outputs": [
        {
          "output_type": "stream",
          "name": "stdout",
          "text": [
            "Found 5216 images belonging to 2 classes.\n",
            "Found 624 images belonging to 2 classes.\n"
          ]
        }
      ]
    },
    {
      "cell_type": "markdown",
      "metadata": {
        "id": "pVvmtsOU2x2u"
      },
      "source": [
        "# Download VGG19 Model\n",
        "\n",
        "Vamos baixar o modelo VGG19 treinado no dataset ImageNet. Outros modelos podem ser observados [neste link](https://keras.io/api/applications/)."
      ],
      "id": "pVvmtsOU2x2u"
    },
    {
      "cell_type": "code",
      "metadata": {
        "colab": {
          "base_uri": "https://localhost:8080/"
        },
        "id": "linear-bridge",
        "outputId": "5a1efc41-d570-40b1-d085-277415fd6add"
      },
      "source": [
        "# https://keras.io/api/applications/vgg/#vgg19-function\n",
        "vgg19_model = tf.keras.applications.vgg19.VGG19(include_top=True, weights=\"imagenet\")"
      ],
      "id": "linear-bridge",
      "execution_count": null,
      "outputs": [
        {
          "output_type": "stream",
          "name": "stdout",
          "text": [
            "Downloading data from https://storage.googleapis.com/tensorflow/keras-applications/vgg19/vgg19_weights_tf_dim_ordering_tf_kernels.h5\n",
            "574717952/574710816 [==============================] - 3s 0us/step\n",
            "574726144/574710816 [==============================] - 3s 0us/step\n"
          ]
        }
      ]
    },
    {
      "cell_type": "code",
      "metadata": {
        "colab": {
          "base_uri": "https://localhost:8080/"
        },
        "id": "comprehensive-tenant",
        "outputId": "e36e86b9-9080-4308-e5f7-de8578666fe2"
      },
      "source": [
        "vgg19_model.summary()"
      ],
      "id": "comprehensive-tenant",
      "execution_count": null,
      "outputs": [
        {
          "output_type": "stream",
          "name": "stdout",
          "text": [
            "Model: \"vgg19\"\n",
            "_________________________________________________________________\n",
            " Layer (type)                Output Shape              Param #   \n",
            "=================================================================\n",
            " input_1 (InputLayer)        [(None, 224, 224, 3)]     0         \n",
            "                                                                 \n",
            " block1_conv1 (Conv2D)       (None, 224, 224, 64)      1792      \n",
            "                                                                 \n",
            " block1_conv2 (Conv2D)       (None, 224, 224, 64)      36928     \n",
            "                                                                 \n",
            " block1_pool (MaxPooling2D)  (None, 112, 112, 64)      0         \n",
            "                                                                 \n",
            " block2_conv1 (Conv2D)       (None, 112, 112, 128)     73856     \n",
            "                                                                 \n",
            " block2_conv2 (Conv2D)       (None, 112, 112, 128)     147584    \n",
            "                                                                 \n",
            " block2_pool (MaxPooling2D)  (None, 56, 56, 128)       0         \n",
            "                                                                 \n",
            " block3_conv1 (Conv2D)       (None, 56, 56, 256)       295168    \n",
            "                                                                 \n",
            " block3_conv2 (Conv2D)       (None, 56, 56, 256)       590080    \n",
            "                                                                 \n",
            " block3_conv3 (Conv2D)       (None, 56, 56, 256)       590080    \n",
            "                                                                 \n",
            " block3_conv4 (Conv2D)       (None, 56, 56, 256)       590080    \n",
            "                                                                 \n",
            " block3_pool (MaxPooling2D)  (None, 28, 28, 256)       0         \n",
            "                                                                 \n",
            " block4_conv1 (Conv2D)       (None, 28, 28, 512)       1180160   \n",
            "                                                                 \n",
            " block4_conv2 (Conv2D)       (None, 28, 28, 512)       2359808   \n",
            "                                                                 \n",
            " block4_conv3 (Conv2D)       (None, 28, 28, 512)       2359808   \n",
            "                                                                 \n",
            " block4_conv4 (Conv2D)       (None, 28, 28, 512)       2359808   \n",
            "                                                                 \n",
            " block4_pool (MaxPooling2D)  (None, 14, 14, 512)       0         \n",
            "                                                                 \n",
            " block5_conv1 (Conv2D)       (None, 14, 14, 512)       2359808   \n",
            "                                                                 \n",
            " block5_conv2 (Conv2D)       (None, 14, 14, 512)       2359808   \n",
            "                                                                 \n",
            " block5_conv3 (Conv2D)       (None, 14, 14, 512)       2359808   \n",
            "                                                                 \n",
            " block5_conv4 (Conv2D)       (None, 14, 14, 512)       2359808   \n",
            "                                                                 \n",
            " block5_pool (MaxPooling2D)  (None, 7, 7, 512)         0         \n",
            "                                                                 \n",
            " flatten (Flatten)           (None, 25088)             0         \n",
            "                                                                 \n",
            " fc1 (Dense)                 (None, 4096)              102764544 \n",
            "                                                                 \n",
            " fc2 (Dense)                 (None, 4096)              16781312  \n",
            "                                                                 \n",
            " predictions (Dense)         (None, 1000)              4097000   \n",
            "                                                                 \n",
            "=================================================================\n",
            "Total params: 143,667,240\n",
            "Trainable params: 143,667,240\n",
            "Non-trainable params: 0\n",
            "_________________________________________________________________\n"
          ]
        }
      ]
    },
    {
      "cell_type": "markdown",
      "metadata": {
        "id": "S60KTcbw-tQ0"
      },
      "source": [
        "# Método de Transfer Learning\n",
        "\n",
        "Vamos utilizar o método de transfer learning para adaptar o modelo baixado para nossa tarefa de classificação."
      ],
      "id": "S60KTcbw-tQ0"
    },
    {
      "cell_type": "markdown",
      "metadata": {
        "id": "7ZQnn6Qx57hn"
      },
      "source": [
        "Primeiro, vamos criar um novo modelo, do tipo sequencial. Em seguida, vamos percorrer todas as camadas do modelo VGG16 e adicionar cada camada no nosso modelo. Mas vamos deixar a última camada de fora e, para isso, definimos o limite até -1, que exclui a última camada."
      ],
      "id": "7ZQnn6Qx57hn"
    },
    {
      "cell_type": "code",
      "metadata": {
        "id": "1MILW2Sh5aji"
      },
      "source": [
        "model = Sequential()\n",
        "for layer in vgg19_model.layers[:-1]:\n",
        "    model.add(layer)"
      ],
      "id": "1MILW2Sh5aji",
      "execution_count": null,
      "outputs": []
    },
    {
      "cell_type": "markdown",
      "metadata": {
        "id": "CzmU4gr06D4q"
      },
      "source": [
        "Agora, vamos mudar nosso novo modelo sequencial, configurando cada camada como \"non-trainable\". Dessa forma, os pesos dessas camadas não serão atualizados durante o processo de treinamento do modelo."
      ],
      "id": "CzmU4gr06D4q"
    },
    {
      "cell_type": "code",
      "metadata": {
        "id": "067VOLP06Iqy"
      },
      "source": [
        "for layer in model.layers:\n",
        "    layer.trainable = False"
      ],
      "id": "067VOLP06Iqy",
      "execution_count": null,
      "outputs": []
    },
    {
      "cell_type": "code",
      "metadata": {
        "colab": {
          "base_uri": "https://localhost:8080/"
        },
        "id": "3uchZ8bN8q0V",
        "outputId": "9aa3a911-8f2e-4b33-a439-055ebbf3d1ba"
      },
      "source": [
        "model.summary()"
      ],
      "id": "3uchZ8bN8q0V",
      "execution_count": null,
      "outputs": [
        {
          "output_type": "stream",
          "name": "stdout",
          "text": [
            "Model: \"sequential\"\n",
            "_________________________________________________________________\n",
            " Layer (type)                Output Shape              Param #   \n",
            "=================================================================\n",
            " block1_conv1 (Conv2D)       (None, 224, 224, 64)      1792      \n",
            "                                                                 \n",
            " block1_conv2 (Conv2D)       (None, 224, 224, 64)      36928     \n",
            "                                                                 \n",
            " block1_pool (MaxPooling2D)  (None, 112, 112, 64)      0         \n",
            "                                                                 \n",
            " block2_conv1 (Conv2D)       (None, 112, 112, 128)     73856     \n",
            "                                                                 \n",
            " block2_conv2 (Conv2D)       (None, 112, 112, 128)     147584    \n",
            "                                                                 \n",
            " block2_pool (MaxPooling2D)  (None, 56, 56, 128)       0         \n",
            "                                                                 \n",
            " block3_conv1 (Conv2D)       (None, 56, 56, 256)       295168    \n",
            "                                                                 \n",
            " block3_conv2 (Conv2D)       (None, 56, 56, 256)       590080    \n",
            "                                                                 \n",
            " block3_conv3 (Conv2D)       (None, 56, 56, 256)       590080    \n",
            "                                                                 \n",
            " block3_conv4 (Conv2D)       (None, 56, 56, 256)       590080    \n",
            "                                                                 \n",
            " block3_pool (MaxPooling2D)  (None, 28, 28, 256)       0         \n",
            "                                                                 \n",
            " block4_conv1 (Conv2D)       (None, 28, 28, 512)       1180160   \n",
            "                                                                 \n",
            " block4_conv2 (Conv2D)       (None, 28, 28, 512)       2359808   \n",
            "                                                                 \n",
            " block4_conv3 (Conv2D)       (None, 28, 28, 512)       2359808   \n",
            "                                                                 \n",
            " block4_conv4 (Conv2D)       (None, 28, 28, 512)       2359808   \n",
            "                                                                 \n",
            " block4_pool (MaxPooling2D)  (None, 14, 14, 512)       0         \n",
            "                                                                 \n",
            " block5_conv1 (Conv2D)       (None, 14, 14, 512)       2359808   \n",
            "                                                                 \n",
            " block5_conv2 (Conv2D)       (None, 14, 14, 512)       2359808   \n",
            "                                                                 \n",
            " block5_conv3 (Conv2D)       (None, 14, 14, 512)       2359808   \n",
            "                                                                 \n",
            " block5_conv4 (Conv2D)       (None, 14, 14, 512)       2359808   \n",
            "                                                                 \n",
            " block5_pool (MaxPooling2D)  (None, 7, 7, 512)         0         \n",
            "                                                                 \n",
            " flatten (Flatten)           (None, 25088)             0         \n",
            "                                                                 \n",
            " fc1 (Dense)                 (None, 4096)              102764544 \n",
            "                                                                 \n",
            " fc2 (Dense)                 (None, 4096)              16781312  \n",
            "                                                                 \n",
            "=================================================================\n",
            "Total params: 139,570,240\n",
            "Trainable params: 0\n",
            "Non-trainable params: 139,570,240\n",
            "_________________________________________________________________\n"
          ]
        }
      ]
    },
    {
      "cell_type": "markdown",
      "metadata": {
        "id": "zVp8evoZ6NUn"
      },
      "source": [
        "Por fim, vamos adicionar uma última camada, que será responsável por fazer a classificação da imagem. Para isso, essa última camada deve conter um número de neurônios igual ao número de classes do dataset."
      ],
      "id": "zVp8evoZ6NUn"
    },
    {
      "cell_type": "code",
      "metadata": {
        "id": "7YRkTsaC53RG"
      },
      "source": [
        "model.add(Dense(units=len(classes), activation='sigmoid'))"
      ],
      "id": "7YRkTsaC53RG",
      "execution_count": null,
      "outputs": []
    },
    {
      "cell_type": "code",
      "metadata": {
        "colab": {
          "base_uri": "https://localhost:8080/"
        },
        "id": "EcBGBi1E5llo",
        "outputId": "2a2b19ab-d317-4dec-8dc5-12076968b239"
      },
      "source": [
        "model.summary()"
      ],
      "id": "EcBGBi1E5llo",
      "execution_count": null,
      "outputs": [
        {
          "output_type": "stream",
          "name": "stdout",
          "text": [
            "Model: \"sequential\"\n",
            "_________________________________________________________________\n",
            " Layer (type)                Output Shape              Param #   \n",
            "=================================================================\n",
            " block1_conv1 (Conv2D)       (None, 224, 224, 64)      1792      \n",
            "                                                                 \n",
            " block1_conv2 (Conv2D)       (None, 224, 224, 64)      36928     \n",
            "                                                                 \n",
            " block1_pool (MaxPooling2D)  (None, 112, 112, 64)      0         \n",
            "                                                                 \n",
            " block2_conv1 (Conv2D)       (None, 112, 112, 128)     73856     \n",
            "                                                                 \n",
            " block2_conv2 (Conv2D)       (None, 112, 112, 128)     147584    \n",
            "                                                                 \n",
            " block2_pool (MaxPooling2D)  (None, 56, 56, 128)       0         \n",
            "                                                                 \n",
            " block3_conv1 (Conv2D)       (None, 56, 56, 256)       295168    \n",
            "                                                                 \n",
            " block3_conv2 (Conv2D)       (None, 56, 56, 256)       590080    \n",
            "                                                                 \n",
            " block3_conv3 (Conv2D)       (None, 56, 56, 256)       590080    \n",
            "                                                                 \n",
            " block3_conv4 (Conv2D)       (None, 56, 56, 256)       590080    \n",
            "                                                                 \n",
            " block3_pool (MaxPooling2D)  (None, 28, 28, 256)       0         \n",
            "                                                                 \n",
            " block4_conv1 (Conv2D)       (None, 28, 28, 512)       1180160   \n",
            "                                                                 \n",
            " block4_conv2 (Conv2D)       (None, 28, 28, 512)       2359808   \n",
            "                                                                 \n",
            " block4_conv3 (Conv2D)       (None, 28, 28, 512)       2359808   \n",
            "                                                                 \n",
            " block4_conv4 (Conv2D)       (None, 28, 28, 512)       2359808   \n",
            "                                                                 \n",
            " block4_pool (MaxPooling2D)  (None, 14, 14, 512)       0         \n",
            "                                                                 \n",
            " block5_conv1 (Conv2D)       (None, 14, 14, 512)       2359808   \n",
            "                                                                 \n",
            " block5_conv2 (Conv2D)       (None, 14, 14, 512)       2359808   \n",
            "                                                                 \n",
            " block5_conv3 (Conv2D)       (None, 14, 14, 512)       2359808   \n",
            "                                                                 \n",
            " block5_conv4 (Conv2D)       (None, 14, 14, 512)       2359808   \n",
            "                                                                 \n",
            " block5_pool (MaxPooling2D)  (None, 7, 7, 512)         0         \n",
            "                                                                 \n",
            " flatten (Flatten)           (None, 25088)             0         \n",
            "                                                                 \n",
            " fc1 (Dense)                 (None, 4096)              102764544 \n",
            "                                                                 \n",
            " fc2 (Dense)                 (None, 4096)              16781312  \n",
            "                                                                 \n",
            " dense (Dense)               (None, 2)                 8194      \n",
            "                                                                 \n",
            "=================================================================\n",
            "Total params: 139,578,434\n",
            "Trainable params: 8,194\n",
            "Non-trainable params: 139,570,240\n",
            "_________________________________________________________________\n"
          ]
        }
      ]
    },
    {
      "cell_type": "code",
      "metadata": {
        "id": "edXdNs2iogHm"
      },
      "source": [
        "from tensorflow.keras.optimizers import Adam \n",
        "opt = Adam(learning_rate=0.01)"
      ],
      "id": "edXdNs2iogHm",
      "execution_count": null,
      "outputs": []
    },
    {
      "cell_type": "code",
      "metadata": {
        "id": "extraordinary-assurance"
      },
      "source": [
        "model.compile(loss='binary_crossentropy',\n",
        "              optimizer=opt,\n",
        "              metrics=['accuracy'])"
      ],
      "id": "extraordinary-assurance",
      "execution_count": null,
      "outputs": []
    },
    {
      "cell_type": "markdown",
      "metadata": {
        "id": "UITIhWIk218o"
      },
      "source": [
        "# Training\n",
        "\n",
        "Agora, vamos iniciar o treinamento do nosso modelo. Lembre-se que, da forma como configuramos as camadas, apenas a última camada será treinada."
      ],
      "id": "UITIhWIk218o"
    },
    {
      "cell_type": "code",
      "metadata": {
        "id": "published-chuck"
      },
      "source": [
        "#Defining the parameters\n",
        "epochs=10"
      ],
      "id": "published-chuck",
      "execution_count": null,
      "outputs": []
    },
    {
      "cell_type": "code",
      "metadata": {
        "colab": {
          "base_uri": "https://localhost:8080/"
        },
        "id": "formal-passenger",
        "outputId": "21a43dc2-d29d-4431-a5f5-0d23405f4c75"
      },
      "source": [
        "history = model.fit(train_data, validation_data=val_data, epochs = epochs)"
      ],
      "id": "formal-passenger",
      "execution_count": null,
      "outputs": [
        {
          "output_type": "stream",
          "name": "stdout",
          "text": [
            "Epoch 1/10\n",
            "163/163 [==============================] - 118s 663ms/step - loss: 0.4876 - accuracy: 0.8275 - val_loss: 0.8563 - val_accuracy: 0.6715\n",
            "Epoch 2/10\n",
            "163/163 [==============================] - 104s 640ms/step - loss: 0.3747 - accuracy: 0.8524 - val_loss: 0.7180 - val_accuracy: 0.7420\n",
            "Epoch 3/10\n",
            "163/163 [==============================] - 107s 656ms/step - loss: 0.2917 - accuracy: 0.8823 - val_loss: 1.0485 - val_accuracy: 0.6763\n",
            "Epoch 4/10\n",
            "163/163 [==============================] - 104s 637ms/step - loss: 0.2326 - accuracy: 0.8997 - val_loss: 0.7231 - val_accuracy: 0.7500\n",
            "Epoch 5/10\n",
            "163/163 [==============================] - 104s 636ms/step - loss: 0.3059 - accuracy: 0.8926 - val_loss: 2.2799 - val_accuracy: 0.6282\n",
            "Epoch 6/10\n",
            "163/163 [==============================] - 104s 640ms/step - loss: 0.3317 - accuracy: 0.8848 - val_loss: 1.4601 - val_accuracy: 0.6747\n",
            "Epoch 7/10\n",
            "163/163 [==============================] - 105s 643ms/step - loss: 0.2594 - accuracy: 0.9015 - val_loss: 0.5464 - val_accuracy: 0.8253\n",
            "Epoch 8/10\n",
            "163/163 [==============================] - 105s 641ms/step - loss: 0.2527 - accuracy: 0.9009 - val_loss: 0.5878 - val_accuracy: 0.8093\n",
            "Epoch 9/10\n",
            "163/163 [==============================] - 105s 646ms/step - loss: 0.2123 - accuracy: 0.9158 - val_loss: 0.3065 - val_accuracy: 0.8942\n",
            "Epoch 10/10\n",
            "163/163 [==============================] - 105s 645ms/step - loss: 0.2217 - accuracy: 0.9183 - val_loss: 0.3390 - val_accuracy: 0.8766\n"
          ]
        }
      ]
    },
    {
      "cell_type": "code",
      "metadata": {
        "colab": {
          "base_uri": "https://localhost:8080/",
          "height": 549
        },
        "id": "known-albany",
        "outputId": "eab9874e-8744-41eb-bddc-30db8a2edbcd"
      },
      "source": [
        "from matplotlib import pyplot as plt\n",
        "def plot_history(history):\n",
        "    hist = pd.DataFrame(history.history)\n",
        "    hist['epoch'] = history.epoch\n",
        "\n",
        "    plt.figure()\n",
        "    plt.xlabel('Epoch')\n",
        "    plt.ylabel('loss')\n",
        "    plt.plot(hist['epoch'], hist['loss'],\n",
        "           label='loss')\n",
        "    plt.plot(hist['epoch'], hist['val_loss'],\n",
        "           label = 'Val loss')\n",
        "    plt.ylim([0,2])\n",
        "    plt.legend()\n",
        "\n",
        "    plt.figure()\n",
        "    plt.xlabel('Epoch')\n",
        "    plt.ylabel('Accuracy')\n",
        "    plt.plot(hist['epoch'], hist['accuracy'],\n",
        "           label='Train Acc')\n",
        "    plt.plot(hist['epoch'], hist['val_accuracy'],\n",
        "           label = 'Val Acc')\n",
        "    plt.ylim([0,1])\n",
        "    plt.legend()\n",
        "    plt.show()\n",
        "\n",
        "\n",
        "plot_history(history)\n"
      ],
      "id": "known-albany",
      "execution_count": null,
      "outputs": [
        {
          "output_type": "display_data",
          "data": {
            "text/plain": [
              "<Figure size 432x288 with 1 Axes>"
            ],
            "image/png": "[encoded data removed]"
          },
          "metadata": {
            "needs_background": "light"
          }
        },
        {
          "output_type": "display_data",
          "data": {
            "text/plain": [
              "<Figure size 432x288 with 1 Axes>"
            ],
            "image/png": "[encoded data removed]"
          },
          "metadata": {
            "needs_background": "light"
          }
        }
      ]
    },
    {
      "cell_type": "markdown",
      "metadata": {
        "id": "7rd_FYymM17K"
      },
      "source": [
        "# Salvando o Modelo\n",
        "\n",
        "Você pode salvar um modelo inteiro em um único. Para isso, execute o comando a seguir. Para mais informações, verifique [https://www.tensorflow.org/guide/keras/save_and_serialize](https://www.tensorflow.org/guide/keras/save_and_serialize)"
      ],
      "id": "7rd_FYymM17K"
    },
    {
      "cell_type": "code",
      "metadata": {
        "id": "GkEYjAeZOHWE"
      },
      "source": [
        "model.save('save_model/vgg19_x-ray_model.h5')\n"
      ],
      "id": "GkEYjAeZOHWE",
      "execution_count": null,
      "outputs": []
    },
    {
      "cell_type": "markdown",
      "metadata": {
        "id": "bGbqTg5GZXL5"
      },
      "source": [
        "Para baixar o modelo para seu computador, execute o próximo comando."
      ],
      "id": "bGbqTg5GZXL5"
    },
    {
      "cell_type": "code",
      "metadata": {
        "id": "51TkRrLjZWbv"
      },
      "source": [
        "from google.colab import files\n",
        "files.download('save_model/vgg19_x-ray_model.h5')"
      ],
      "id": "51TkRrLjZWbv",
      "execution_count": null,
      "outputs": []
    },
    {
      "cell_type": "markdown",
      "metadata": {
        "id": "gnIDUEjqc0cf"
      },
      "source": [
        "Salvar e baixar todo o modelo pode demorar um pouco. Talvez a melhor opção seja salvar apenas os pesos."
      ],
      "id": "gnIDUEjqc0cf"
    },
    {
      "cell_type": "code",
      "metadata": {
        "id": "PMabUKOlc7Nl"
      },
      "source": [
        "model.save_weights(\"save_model/vgg19_x_ray_ckpt\")\n"
      ],
      "id": "PMabUKOlc7Nl",
      "execution_count": null,
      "outputs": []
    },
    {
      "cell_type": "code",
      "metadata": {
        "colab": {
          "base_uri": "https://localhost:8080/"
        },
        "id": "n1_k9QW5dHx5",
        "outputId": "2289625d-fc5c-49ac-a2e2-049b24da79e1"
      },
      "source": [
        "!ls -lha save_model/"
      ],
      "id": "n1_k9QW5dHx5",
      "execution_count": null,
      "outputs": [
        {
          "output_type": "stream",
          "name": "stdout",
          "text": [
            "total 1.1G\n",
            "drwxr-xr-x 2 root root 4.0K Apr  8 19:55 .\n",
            "drwxr-xr-x 1 root root 4.0K Apr  8 19:53 ..\n",
            "-rw-r--r-- 1 root root   89 Apr  8 19:55 checkpoint\n",
            "-rw-r--r-- 1 root root 533M Apr  8 19:55 vgg19_x_ray_ckpt.data-00000-of-00001\n",
            "-rw-r--r-- 1 root root 3.2K Apr  8 19:55 vgg19_x_ray_ckpt.index\n",
            "-rw-r--r-- 1 root root 533M Apr  8 19:53 vgg19_x-ray_model.h5\n"
          ]
        }
      ]
    },
    {
      "cell_type": "code",
      "metadata": {
        "id": "buA6B-63VEyz"
      },
      "source": [
        "!tar -jcvf save_model_vgg19_x_ray.tar.bz save_model"
      ],
      "id": "buA6B-63VEyz",
      "execution_count": null,
      "outputs": []
    },
    {
      "cell_type": "code",
      "metadata": {
        "id": "BZCrY18zVQPW"
      },
      "source": [
        "from google.colab import files\n",
        "files.download('save_model_vgg19_x_ray.tar.bz')"
      ],
      "id": "BZCrY18zVQPW",
      "execution_count": null,
      "outputs": []
    },
    {
      "cell_type": "markdown",
      "metadata": {
        "id": "9g3cUiZdXxDt"
      },
      "source": [
        "# Carregando o Modelo"
      ],
      "id": "9g3cUiZdXxDt"
    },
    {
      "cell_type": "code",
      "metadata": {
        "colab": {
          "base_uri": "https://localhost:8080/"
        },
        "id": "lYO2iZ7OdP3q",
        "outputId": "2ed76683-a7f3-43e8-e9dc-d4663fcb8c28"
      },
      "source": [
        "load_status = model.load_weights(\"save_model/vgg19_x_ray_ckpt\")\n",
        "load_status"
      ],
      "id": "lYO2iZ7OdP3q",
      "execution_count": null,
      "outputs": [
        {
          "output_type": "execute_result",
          "data": {
            "text/plain": [
              "<tensorflow.python.training.tracking.util.CheckpointLoadStatus at 0x7fd93f513750>"
            ]
          },
          "metadata": {},
          "execution_count": 27
        }
      ]
    },
    {
      "cell_type": "code",
      "metadata": {
        "id": "SVeXwabBXuI-"
      },
      "source": [
        "# It can be used to reconstruct the model identically.\n",
        "reconstructed_model = keras.models.load_model(\"save_model/vgg19_x-ray_model.h5\")\n"
      ],
      "id": "SVeXwabBXuI-",
      "execution_count": null,
      "outputs": []
    },
    {
      "cell_type": "markdown",
      "metadata": {
        "id": "QGM84xNSGt3S"
      },
      "source": [
        "# Testing"
      ],
      "id": "QGM84xNSGt3S"
    },
    {
      "cell_type": "code",
      "metadata": {
        "colab": {
          "base_uri": "https://localhost:8080/"
        },
        "id": "UgZ9n543DNpB",
        "outputId": "c3d82bd8-77d8-4580-92c0-cf4260b4038e"
      },
      "source": [
        "tsdata = ImageDataGenerator()\n",
        "test_data = tsdata.flow_from_directory(directory=\"./data/chest_xray/val\", target_size=(224,224))"
      ],
      "id": "UgZ9n543DNpB",
      "execution_count": null,
      "outputs": [
        {
          "output_type": "stream",
          "name": "stdout",
          "text": [
            "Found 16 images belonging to 2 classes.\n"
          ]
        }
      ]
    },
    {
      "cell_type": "code",
      "metadata": {
        "colab": {
          "base_uri": "https://localhost:8080/"
        },
        "id": "whole-trouble",
        "outputId": "5d4212c3-3463-4989-eeef-25bda486ab90"
      },
      "source": [
        "scores = model.evaluate(test_data)\n",
        "print(\"Accuracy: {}\".format(scores[1]))\n"
      ],
      "id": "whole-trouble",
      "execution_count": null,
      "outputs": [
        {
          "output_type": "stream",
          "name": "stdout",
          "text": [
            "1/1 [==============================] - 0s 230ms/step - loss: 9.6953 - accuracy: 0.6250\n",
            "Accuracy: 0.625\n"
          ]
        }
      ]
    },
    {
      "cell_type": "code",
      "metadata": {
        "id": "dgsfe6TMXYWB"
      },
      "source": [
        ""
      ],
      "id": "dgsfe6TMXYWB",
      "execution_count": null,
      "outputs": []
    }
  ]
}