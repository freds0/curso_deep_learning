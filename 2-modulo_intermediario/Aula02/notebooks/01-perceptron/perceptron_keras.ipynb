{
  "cells": [
    {
      "cell_type": "markdown",
      "id": "ffc8c889",
      "metadata": {
        "id": "ffc8c889"
      },
      "source": [
        "# Perceptron usando Keras"
      ]
    },
    {
      "cell_type": "code",
      "execution_count": null,
      "id": "64e68498",
      "metadata": {
        "id": "64e68498",
        "outputId": "ae53f987-ecb0-4b45-c9d2-a6fb1e0abe99",
        "colab": {
          "base_uri": "https://localhost:8080/",
          "height": 530
        }
      },
      "outputs": [
        {
          "output_type": "execute_result",
          "data": {
            "text/plain": [
              "Text(0.5, 1.0, 'Random Classification Data with 2 classes')"
            ]
          },
          "metadata": {},
          "execution_count": 1
        },
        {
          "output_type": "display_data",
          "data": {
            "text/plain": [
              "<Figure size 720x576 with 1 Axes>"
            ],
            "image/png": "[encoded data removed]"
          },
          "metadata": {
            "needs_background": "light"
          }
        }
      ],
      "source": [
        "from sklearn import datasets\n",
        "import matplotlib.pyplot as plt\n",
        "X, y = datasets.make_blobs(n_samples=500,n_features=2,\n",
        "                           centers=2,cluster_std=2,\n",
        "                           random_state=2)#Plotting\n",
        "\n",
        "fig = plt.figure(figsize=(10,8))\n",
        "plt.plot(X[:, 0][y == 0], X[:, 1][y == 0], 'r^')\n",
        "plt.plot(X[:, 0][y == 1], X[:, 1][y == 1], 'bs')\n",
        "plt.xlabel(\"feature 1\")\n",
        "plt.ylabel(\"feature 2\")\n",
        "plt.title('Random Classification Data with 2 classes')"
      ]
    },
    {
      "cell_type": "code",
      "source": [
        "# splitting the data\n",
        "from sklearn.model_selection import train_test_split\n",
        "X_train, X_test, y_train, y_test = train_test_split(X, y, test_size = 0.10, random_state = 1,)"
      ],
      "metadata": {
        "id": "kQBzhXhiCs4U"
      },
      "id": "kQBzhXhiCs4U",
      "execution_count": null,
      "outputs": []
    },
    {
      "cell_type": "code",
      "source": [
        "from keras.models import Sequential\n",
        "from keras.layers import Dense, Activation\n",
        "\n",
        "model = Sequential()\n",
        "model.add(Dense(1, activation = 'sigmoid', input_dim = 2))\n"
      ],
      "metadata": {
        "id": "7UlOMVh1CUi6"
      },
      "id": "7UlOMVh1CUi6",
      "execution_count": null,
      "outputs": []
    },
    {
      "cell_type": "code",
      "source": [
        "model.compile(optimizer='sgd',loss='binary_crossentropy', metrics=['accuracy'])"
      ],
      "metadata": {
        "id": "g-sFcbULC085"
      },
      "id": "g-sFcbULC085",
      "execution_count": null,
      "outputs": []
    },
    {
      "cell_type": "markdown",
      "id": "7f51a467",
      "metadata": {
        "id": "7f51a467"
      },
      "source": [
        "## Training"
      ]
    },
    {
      "cell_type": "code",
      "execution_count": null,
      "id": "9c1cd6e2",
      "metadata": {
        "id": "9c1cd6e2",
        "outputId": "3250270b-f414-4ea6-caa4-f6a92920b9f0",
        "colab": {
          "base_uri": "https://localhost:8080/"
        }
      },
      "outputs": [
        {
          "output_type": "stream",
          "name": "stdout",
          "text": [
            "Epoch 1/30\n",
            "15/15 [==============================] - 1s 2ms/step - loss: 1.7968 - accuracy: 0.4622\n",
            "Epoch 2/30\n",
            "15/15 [==============================] - 0s 2ms/step - loss: 0.5011 - accuracy: 0.7422\n",
            "Epoch 3/30\n",
            "15/15 [==============================] - 0s 2ms/step - loss: 0.4225 - accuracy: 0.7933\n",
            "Epoch 4/30\n",
            "15/15 [==============================] - 0s 2ms/step - loss: 0.4066 - accuracy: 0.7911\n",
            "Epoch 5/30\n",
            "15/15 [==============================] - 0s 2ms/step - loss: 0.4013 - accuracy: 0.7933\n",
            "Epoch 6/30\n",
            "15/15 [==============================] - 0s 2ms/step - loss: 0.3970 - accuracy: 0.8000\n",
            "Epoch 7/30\n",
            "15/15 [==============================] - 0s 2ms/step - loss: 0.3926 - accuracy: 0.8000\n",
            "Epoch 8/30\n",
            "15/15 [==============================] - 0s 2ms/step - loss: 0.3886 - accuracy: 0.8044\n",
            "Epoch 9/30\n",
            "15/15 [==============================] - 0s 2ms/step - loss: 0.3845 - accuracy: 0.8067\n",
            "Epoch 10/30\n",
            "15/15 [==============================] - 0s 2ms/step - loss: 0.3809 - accuracy: 0.8067\n",
            "Epoch 11/30\n",
            "15/15 [==============================] - 0s 2ms/step - loss: 0.3772 - accuracy: 0.8156\n",
            "Epoch 12/30\n",
            "15/15 [==============================] - 0s 2ms/step - loss: 0.3734 - accuracy: 0.8156\n",
            "Epoch 13/30\n",
            "15/15 [==============================] - 0s 2ms/step - loss: 0.3701 - accuracy: 0.8178\n",
            "Epoch 14/30\n",
            "15/15 [==============================] - 0s 2ms/step - loss: 0.3664 - accuracy: 0.8178\n",
            "Epoch 15/30\n",
            "15/15 [==============================] - 0s 2ms/step - loss: 0.3630 - accuracy: 0.8200\n",
            "Epoch 16/30\n",
            "15/15 [==============================] - 0s 2ms/step - loss: 0.3592 - accuracy: 0.8200\n",
            "Epoch 17/30\n",
            "15/15 [==============================] - 0s 2ms/step - loss: 0.3559 - accuracy: 0.8244\n",
            "Epoch 18/30\n",
            "15/15 [==============================] - 0s 2ms/step - loss: 0.3526 - accuracy: 0.8356\n",
            "Epoch 19/30\n",
            "15/15 [==============================] - 0s 2ms/step - loss: 0.3489 - accuracy: 0.8378\n",
            "Epoch 20/30\n",
            "15/15 [==============================] - 0s 2ms/step - loss: 0.3455 - accuracy: 0.8444\n",
            "Epoch 21/30\n",
            "15/15 [==============================] - 0s 2ms/step - loss: 0.3420 - accuracy: 0.8444\n",
            "Epoch 22/30\n",
            "15/15 [==============================] - 0s 2ms/step - loss: 0.3391 - accuracy: 0.8489\n",
            "Epoch 23/30\n",
            "15/15 [==============================] - 0s 3ms/step - loss: 0.3358 - accuracy: 0.8511\n",
            "Epoch 24/30\n",
            "15/15 [==============================] - 0s 2ms/step - loss: 0.3327 - accuracy: 0.8444\n",
            "Epoch 25/30\n",
            "15/15 [==============================] - 0s 2ms/step - loss: 0.3295 - accuracy: 0.8489\n",
            "Epoch 26/30\n",
            "15/15 [==============================] - 0s 2ms/step - loss: 0.3265 - accuracy: 0.8511\n",
            "Epoch 27/30\n",
            "15/15 [==============================] - 0s 2ms/step - loss: 0.3237 - accuracy: 0.8533\n",
            "Epoch 28/30\n",
            "15/15 [==============================] - 0s 2ms/step - loss: 0.3211 - accuracy: 0.8533\n",
            "Epoch 29/30\n",
            "15/15 [==============================] - 0s 2ms/step - loss: 0.3183 - accuracy: 0.8556\n",
            "Epoch 30/30\n",
            "15/15 [==============================] - 0s 2ms/step - loss: 0.3156 - accuracy: 0.8578\n"
          ]
        }
      ],
      "source": [
        "history = model.fit(X_train, y_train, epochs = 30)"
      ]
    },
    {
      "cell_type": "markdown",
      "id": "53ffefaf",
      "metadata": {
        "id": "53ffefaf"
      },
      "source": [
        "## Prediction"
      ]
    },
    {
      "cell_type": "code",
      "execution_count": null,
      "id": "41ee2cae",
      "metadata": {
        "id": "41ee2cae",
        "colab": {
          "base_uri": "https://localhost:8080/"
        },
        "outputId": "c6afb10e-2e91-417a-fbbd-e58adc624e1d"
      },
      "outputs": [
        {
          "output_type": "execute_result",
          "data": {
            "text/plain": [
              "array([[0.13693663],\n",
              "       [0.13009596],\n",
              "       [0.03419775],\n",
              "       [0.28088033],\n",
              "       [0.8843913 ],\n",
              "       [0.4584931 ],\n",
              "       [0.07723734],\n",
              "       [0.04865941],\n",
              "       [0.77673966],\n",
              "       [0.06271428],\n",
              "       [0.19942692],\n",
              "       [0.15581548],\n",
              "       [0.03399271],\n",
              "       [0.06011808],\n",
              "       [0.7144953 ],\n",
              "       [0.43294698],\n",
              "       [0.03270236],\n",
              "       [0.860175  ],\n",
              "       [0.10525712],\n",
              "       [0.06654876],\n",
              "       [0.9365729 ],\n",
              "       [0.68409973],\n",
              "       [0.2721365 ],\n",
              "       [0.25031883],\n",
              "       [0.77641225],\n",
              "       [0.58257335],\n",
              "       [0.03471127],\n",
              "       [0.3584093 ],\n",
              "       [0.8622467 ],\n",
              "       [0.82344127],\n",
              "       [0.49834496],\n",
              "       [0.7931378 ],\n",
              "       [0.29023546],\n",
              "       [0.785918  ],\n",
              "       [0.4193285 ],\n",
              "       [0.01103649],\n",
              "       [0.8314203 ],\n",
              "       [0.7392452 ],\n",
              "       [0.89219487],\n",
              "       [0.17900261],\n",
              "       [0.72248495],\n",
              "       [0.5714789 ],\n",
              "       [0.73779285],\n",
              "       [0.9188602 ],\n",
              "       [0.49034825],\n",
              "       [0.52819234],\n",
              "       [0.81951594],\n",
              "       [0.8354013 ],\n",
              "       [0.92635626],\n",
              "       [0.92173666]], dtype=float32)"
            ]
          },
          "metadata": {},
          "execution_count": 6
        }
      ],
      "source": [
        "y_pred = model.predict(X_test)\n",
        "y_pred"
      ]
    },
    {
      "cell_type": "code",
      "source": [
        "y_pred = (y_pred > 0.5).astype(\"int32\")"
      ],
      "metadata": {
        "id": "cH9gOwaVDY2d"
      },
      "id": "cH9gOwaVDY2d",
      "execution_count": null,
      "outputs": []
    },
    {
      "cell_type": "code",
      "source": [
        "y_pred = y_pred.reshape(50, )"
      ],
      "metadata": {
        "id": "Uuf-uHJn-eYM"
      },
      "id": "Uuf-uHJn-eYM",
      "execution_count": null,
      "outputs": []
    },
    {
      "cell_type": "code",
      "source": [
        "fig = plt.figure(figsize=(10,8))\n",
        "plt.plot(X_test[:, 0][y_test == 0], X_test[:, 1][y_test == 0], 'r^')\n",
        "plt.plot(X_test[:, 0][y_test == 1], X_test[:, 1][y_test == 1], 'bs')\n",
        "plt.xlabel(\"feature 1\")\n",
        "plt.ylabel(\"feature 2\")\n",
        "plt.title('Random Classification Data with 2 classes')"
      ],
      "metadata": {
        "colab": {
          "base_uri": "https://localhost:8080/",
          "height": 530
        },
        "id": "r-tLqjBD-9--",
        "outputId": "07f523d1-410b-46c8-94c4-8c5941ce9545"
      },
      "id": "r-tLqjBD-9--",
      "execution_count": null,
      "outputs": [
        {
          "output_type": "execute_result",
          "data": {
            "text/plain": [
              "Text(0.5, 1.0, 'Random Classification Data with 2 classes')"
            ]
          },
          "metadata": {},
          "execution_count": 22
        },
        {
          "output_type": "display_data",
          "data": {
            "text/plain": [
              "<Figure size 720x576 with 1 Axes>"
            ],
            "image/png": "[encoded data removed]"
          },
          "metadata": {
            "needs_background": "light"
          }
        }
      ]
    },
    {
      "cell_type": "code",
      "source": [
        "fig = plt.figure(figsize=(10,8))\n",
        "plt.plot(X_test[:, 0][y_pred == 0], X_test[:, 1][y_pred == 0], 'r^')\n",
        "plt.plot(X_test[:, 0][y_pred == 1], X_test[:, 1][y_pred == 1], 'bs')\n",
        "plt.xlabel(\"feature 1\")\n",
        "plt.ylabel(\"feature 2\")\n",
        "plt.title('Random Classification Data with 2 classes')"
      ],
      "metadata": {
        "colab": {
          "base_uri": "https://localhost:8080/",
          "height": 530
        },
        "id": "UekyK8uD-Y0D",
        "outputId": "ec313e60-af32-4d9d-b868-efe7c7ef0b88"
      },
      "id": "UekyK8uD-Y0D",
      "execution_count": null,
      "outputs": [
        {
          "output_type": "execute_result",
          "data": {
            "text/plain": [
              "Text(0.5, 1.0, 'Random Classification Data with 2 classes')"
            ]
          },
          "metadata": {},
          "execution_count": 21
        },
        {
          "output_type": "display_data",
          "data": {
            "text/plain": [
              "<Figure size 720x576 with 1 Axes>"
            ],
            "image/png": "[encoded data removed]"
          },
          "metadata": {
            "needs_background": "light"
          }
        }
      ]
    },
    {
      "cell_type": "code",
      "source": [
        ""
      ],
      "metadata": {
        "id": "bq4ufv5b-dKj"
      },
      "id": "bq4ufv5b-dKj",
      "execution_count": null,
      "outputs": []
    }
  ],
  "metadata": {
    "kernelspec": {
      "display_name": "Python 3 (ipykernel)",
      "language": "python",
      "name": "python3"
    },
    "language_info": {
      "codemirror_mode": {
        "name": "ipython",
        "version": 3
      },
      "file_extension": ".py",
      "mimetype": "text/x-python",
      "name": "python",
      "nbconvert_exporter": "python",
      "pygments_lexer": "ipython3",
      "version": "3.9.7"
    },
    "colab": {
      "name": "perceptron_keras.ipynb",
      "provenance": [],
      "collapsed_sections": []
    }
  },
  "nbformat": 4,
  "nbformat_minor": 5
}