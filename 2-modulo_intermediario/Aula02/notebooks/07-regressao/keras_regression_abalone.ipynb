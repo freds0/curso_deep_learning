{
 "cells": [
  {
   "cell_type": "code",
   "execution_count": 2,
   "id": "distant-church",
   "metadata": {},
   "outputs": [
    {
     "name": "stdout",
     "output_type": "stream",
     "text": [
      "2.5.0\n"
     ]
    }
   ],
   "source": [
    "# https://machinelearningmastery.com/neural-network-models-for-combined-classification-and-regression/\n",
    "import pandas as pd\n",
    "\n",
    "import matplotlib.pyplot as plt\n",
    "import tensorflow as tf\n",
    "\n",
    "from tensorflow import keras\n",
    "from tensorflow.keras import layers\n",
    "\n",
    "print(tf.__version__)\n"
   ]
  },
  {
   "cell_type": "code",
   "execution_count": 3,
   "id": "diverse-likelihood",
   "metadata": {},
   "outputs": [
    {
     "name": "stdout",
     "output_type": "stream",
     "text": [
      "Downloading data from https://raw.githubusercontent.com/jbrownlee/Datasets/master/abalone.csv\n",
      "196608/191872 [==============================] - 0s 0us/step\n"
     ]
    },
    {
     "data": {
      "text/plain": [
       "'/home/fred/.keras/datasets/abalone.data'"
      ]
     },
     "execution_count": 3,
     "metadata": {},
     "output_type": "execute_result"
    }
   ],
   "source": [
    "dataset_path = keras.utils.get_file(\"abalone.data\", \"https://raw.githubusercontent.com/jbrownlee/Datasets/master/abalone.csv\")\n",
    "dataset_path"
   ]
  },
  {
   "cell_type": "code",
   "execution_count": 22,
   "id": "published-inventory",
   "metadata": {},
   "outputs": [
    {
     "data": {
      "text/plain": [
       "array([['M', 0.455, 0.365, ..., 0.101, 0.15, 15],\n",
       "       ['M', 0.35, 0.265, ..., 0.0485, 0.07, 7],\n",
       "       ['F', 0.53, 0.42, ..., 0.1415, 0.21, 9],\n",
       "       ...,\n",
       "       ['M', 0.6, 0.475, ..., 0.2875, 0.308, 9],\n",
       "       ['F', 0.625, 0.485, ..., 0.261, 0.296, 10],\n",
       "       ['M', 0.71, 0.555, ..., 0.3765, 0.495, 12]], dtype=object)"
      ]
     },
     "execution_count": 22,
     "metadata": {},
     "output_type": "execute_result"
    }
   ],
   "source": [
    "raw_dataset = pd.read_csv(dataset_path, header=None)\n",
    "dataset = raw_dataset.copy()\n",
    "dataset = dataset.values\n",
    "dataset"
   ]
  },
  {
   "cell_type": "code",
   "execution_count": 32,
   "id": "innovative-content",
   "metadata": {},
   "outputs": [],
   "source": [
    "# split into input (X) and output (y) variables\n",
    "X = dataset[:,1:-1].astype('float')\n",
    "y = dataset[:,-1].astype('float')"
   ]
  },
  {
   "cell_type": "code",
   "execution_count": 48,
   "id": "dutch-modem",
   "metadata": {},
   "outputs": [
    {
     "data": {
      "text/plain": [
       "(4177, 7)"
      ]
     },
     "execution_count": 48,
     "metadata": {},
     "output_type": "execute_result"
    }
   ],
   "source": [
    "X.shape"
   ]
  },
  {
   "cell_type": "code",
   "execution_count": 49,
   "id": "dress-ability",
   "metadata": {},
   "outputs": [],
   "source": [
    "# Splitting the dataset into the Training set and Test set\n",
    "from sklearn.model_selection import train_test_split\n",
    "X_train, X_test, y_train, y_test = train_test_split(X, y, test_size = 0.1, random_state = 0)"
   ]
  },
  {
   "cell_type": "code",
   "execution_count": 50,
   "id": "dutch-sculpture",
   "metadata": {},
   "outputs": [],
   "source": [
    "model = keras.Sequential([\n",
    "    layers.Dense(64, activation='sigmoid', input_shape=[X_train.shape[1]]),\n",
    "    layers.Dense(1)\n",
    "])"
   ]
  },
  {
   "cell_type": "code",
   "execution_count": 54,
   "id": "biological-privilege",
   "metadata": {},
   "outputs": [],
   "source": [
    "model.compile(loss='mse',\n",
    "              optimizer='sgd',\n",
    "              metrics=['accuracy'])\n"
   ]
  },
  {
   "cell_type": "code",
   "execution_count": 55,
   "id": "threaded-awareness",
   "metadata": {},
   "outputs": [
    {
     "name": "stdout",
     "output_type": "stream",
     "text": [
      "Model: \"sequential_1\"\n",
      "_________________________________________________________________\n",
      "Layer (type)                 Output Shape              Param #   \n",
      "=================================================================\n",
      "dense_4 (Dense)              (None, 64)                512       \n",
      "_________________________________________________________________\n",
      "dense_5 (Dense)              (None, 1)                 65        \n",
      "=================================================================\n",
      "Total params: 577\n",
      "Trainable params: 577\n",
      "Non-trainable params: 0\n",
      "_________________________________________________________________\n"
     ]
    }
   ],
   "source": [
    "model.summary()\n"
   ]
  },
  {
   "cell_type": "code",
   "execution_count": 57,
   "id": "otherwise-fountain",
   "metadata": {},
   "outputs": [
    {
     "name": "stdout",
     "output_type": "stream",
     "text": [
      "Epoch 1/100\n",
      "94/94 [==============================] - 0s 933us/step - loss: 6.7729 - accuracy: 3.3256e-04 - val_loss: 7.4948 - val_accuracy: 0.0000e+00\n",
      "Epoch 2/100\n",
      "94/94 [==============================] - 0s 744us/step - loss: 6.6939 - accuracy: 3.3256e-04 - val_loss: 7.2184 - val_accuracy: 0.0000e+00\n",
      "Epoch 3/100\n",
      "94/94 [==============================] - 0s 715us/step - loss: 6.6807 - accuracy: 3.3256e-04 - val_loss: 7.3192 - val_accuracy: 0.0000e+00\n",
      "Epoch 4/100\n",
      "94/94 [==============================] - 0s 695us/step - loss: 6.6853 - accuracy: 3.3256e-04 - val_loss: 7.2672 - val_accuracy: 0.0000e+00\n",
      "Epoch 5/100\n",
      "94/94 [==============================] - 0s 705us/step - loss: 6.6737 - accuracy: 3.3256e-04 - val_loss: 7.1243 - val_accuracy: 0.0000e+00\n",
      "Epoch 6/100\n",
      "94/94 [==============================] - 0s 706us/step - loss: 6.6108 - accuracy: 3.3256e-04 - val_loss: 7.0983 - val_accuracy: 0.0000e+00\n",
      "Epoch 7/100\n",
      "94/94 [==============================] - 0s 711us/step - loss: 6.5707 - accuracy: 3.3256e-04 - val_loss: 7.0577 - val_accuracy: 0.0000e+00\n",
      "Epoch 8/100\n",
      "94/94 [==============================] - 0s 691us/step - loss: 6.5510 - accuracy: 3.3256e-04 - val_loss: 7.0181 - val_accuracy: 0.0000e+00\n",
      "Epoch 9/100\n",
      "94/94 [==============================] - 0s 733us/step - loss: 6.5255 - accuracy: 3.3256e-04 - val_loss: 7.0703 - val_accuracy: 0.0000e+00\n",
      "Epoch 10/100\n",
      "94/94 [==============================] - 0s 718us/step - loss: 6.4981 - accuracy: 3.3256e-04 - val_loss: 6.9991 - val_accuracy: 0.0000e+00\n",
      "Epoch 11/100\n",
      "94/94 [==============================] - 0s 724us/step - loss: 6.4563 - accuracy: 3.3256e-04 - val_loss: 6.9099 - val_accuracy: 0.0000e+00\n",
      "Epoch 12/100\n",
      "94/94 [==============================] - 0s 709us/step - loss: 6.4206 - accuracy: 3.3256e-04 - val_loss: 7.0676 - val_accuracy: 0.0000e+00\n",
      "Epoch 13/100\n",
      "94/94 [==============================] - 0s 705us/step - loss: 6.3663 - accuracy: 3.3256e-04 - val_loss: 6.8557 - val_accuracy: 0.0000e+00\n",
      "Epoch 14/100\n",
      "94/94 [==============================] - 0s 705us/step - loss: 6.3122 - accuracy: 3.3256e-04 - val_loss: 6.8778 - val_accuracy: 0.0000e+00\n",
      "Epoch 15/100\n",
      "94/94 [==============================] - 0s 696us/step - loss: 6.2988 - accuracy: 3.3256e-04 - val_loss: 6.7204 - val_accuracy: 0.0000e+00\n",
      "Epoch 16/100\n",
      "94/94 [==============================] - 0s 752us/step - loss: 6.2426 - accuracy: 3.3256e-04 - val_loss: 6.6979 - val_accuracy: 0.0000e+00\n",
      "Epoch 17/100\n",
      "94/94 [==============================] - 0s 686us/step - loss: 6.2245 - accuracy: 3.3256e-04 - val_loss: 6.6293 - val_accuracy: 0.0000e+00\n",
      "Epoch 18/100\n",
      "94/94 [==============================] - 0s 678us/step - loss: 6.1550 - accuracy: 3.3256e-04 - val_loss: 6.5721 - val_accuracy: 0.0000e+00\n",
      "Epoch 19/100\n",
      "94/94 [==============================] - 0s 677us/step - loss: 6.0958 - accuracy: 3.3256e-04 - val_loss: 6.6532 - val_accuracy: 0.0000e+00\n",
      "Epoch 20/100\n",
      "94/94 [==============================] - 0s 679us/step - loss: 6.1108 - accuracy: 3.3256e-04 - val_loss: 6.4770 - val_accuracy: 0.0000e+00\n",
      "Epoch 21/100\n",
      "94/94 [==============================] - 0s 686us/step - loss: 6.0209 - accuracy: 3.3256e-04 - val_loss: 6.4910 - val_accuracy: 0.0000e+00\n",
      "Epoch 22/100\n",
      "94/94 [==============================] - 0s 719us/step - loss: 5.9599 - accuracy: 3.3256e-04 - val_loss: 6.6396 - val_accuracy: 0.0000e+00\n",
      "Epoch 23/100\n",
      "94/94 [==============================] - 0s 704us/step - loss: 5.9674 - accuracy: 3.3256e-04 - val_loss: 6.3025 - val_accuracy: 0.0000e+00\n",
      "Epoch 24/100\n",
      "94/94 [==============================] - 0s 702us/step - loss: 5.8873 - accuracy: 3.3256e-04 - val_loss: 6.2468 - val_accuracy: 0.0000e+00\n",
      "Epoch 25/100\n",
      "94/94 [==============================] - 0s 719us/step - loss: 5.8418 - accuracy: 3.3256e-04 - val_loss: 6.1957 - val_accuracy: 0.0000e+00\n",
      "Epoch 26/100\n",
      "94/94 [==============================] - 0s 701us/step - loss: 5.7849 - accuracy: 3.3256e-04 - val_loss: 6.1369 - val_accuracy: 0.0000e+00\n",
      "Epoch 27/100\n",
      "94/94 [==============================] - 0s 699us/step - loss: 5.7340 - accuracy: 3.3256e-04 - val_loss: 6.0783 - val_accuracy: 0.0000e+00\n",
      "Epoch 28/100\n",
      "94/94 [==============================] - 0s 690us/step - loss: 5.6871 - accuracy: 3.3256e-04 - val_loss: 6.0458 - val_accuracy: 0.0000e+00\n",
      "Epoch 29/100\n",
      "94/94 [==============================] - 0s 683us/step - loss: 5.6441 - accuracy: 3.3256e-04 - val_loss: 5.9803 - val_accuracy: 0.0000e+00\n",
      "Epoch 30/100\n",
      "94/94 [==============================] - 0s 693us/step - loss: 5.5878 - accuracy: 3.3256e-04 - val_loss: 5.9874 - val_accuracy: 0.0000e+00\n",
      "Epoch 31/100\n",
      "94/94 [==============================] - 0s 704us/step - loss: 5.5357 - accuracy: 3.3256e-04 - val_loss: 6.3794 - val_accuracy: 0.0000e+00\n",
      "Epoch 32/100\n",
      "94/94 [==============================] - 0s 713us/step - loss: 5.5354 - accuracy: 3.3256e-04 - val_loss: 5.8477 - val_accuracy: 0.0000e+00\n",
      "Epoch 33/100\n",
      "94/94 [==============================] - 0s 676us/step - loss: 5.4786 - accuracy: 3.3256e-04 - val_loss: 5.8041 - val_accuracy: 0.0000e+00\n",
      "Epoch 34/100\n",
      "94/94 [==============================] - 0s 680us/step - loss: 5.4332 - accuracy: 3.3256e-04 - val_loss: 5.7274 - val_accuracy: 0.0000e+00\n",
      "Epoch 35/100\n",
      "94/94 [==============================] - 0s 691us/step - loss: 5.3398 - accuracy: 3.3256e-04 - val_loss: 5.7333 - val_accuracy: 0.0000e+00\n",
      "Epoch 36/100\n",
      "94/94 [==============================] - 0s 781us/step - loss: 5.3578 - accuracy: 3.3256e-04 - val_loss: 5.6247 - val_accuracy: 0.0000e+00\n",
      "Epoch 37/100\n",
      "94/94 [==============================] - 0s 704us/step - loss: 5.2982 - accuracy: 3.3256e-04 - val_loss: 5.5896 - val_accuracy: 0.0000e+00\n",
      "Epoch 38/100\n",
      "94/94 [==============================] - 0s 686us/step - loss: 5.2546 - accuracy: 3.3256e-04 - val_loss: 5.6057 - val_accuracy: 0.0000e+00\n",
      "Epoch 39/100\n",
      "94/94 [==============================] - ETA: 0s - loss: 2.6563 - accuracy: 0.0000e+ - 0s 714us/step - loss: 5.2619 - accuracy: 3.3256e-04 - val_loss: 5.5210 - val_accuracy: 0.0000e+00\n",
      "Epoch 40/100\n",
      "94/94 [==============================] - 0s 712us/step - loss: 5.2213 - accuracy: 3.3256e-04 - val_loss: 5.5150 - val_accuracy: 0.0000e+00\n",
      "Epoch 41/100\n",
      "94/94 [==============================] - 0s 736us/step - loss: 5.2213 - accuracy: 3.3256e-04 - val_loss: 5.4507 - val_accuracy: 0.0000e+00\n",
      "Epoch 42/100\n",
      "94/94 [==============================] - 0s 730us/step - loss: 5.1212 - accuracy: 3.3256e-04 - val_loss: 5.4074 - val_accuracy: 0.0000e+00\n",
      "Epoch 43/100\n",
      "94/94 [==============================] - 0s 699us/step - loss: 5.1153 - accuracy: 3.3256e-04 - val_loss: 5.3807 - val_accuracy: 0.0000e+00\n",
      "Epoch 44/100\n",
      "94/94 [==============================] - 0s 732us/step - loss: 5.0968 - accuracy: 3.3256e-04 - val_loss: 5.3779 - val_accuracy: 0.0000e+00\n",
      "Epoch 45/100\n",
      "94/94 [==============================] - 0s 722us/step - loss: 5.0609 - accuracy: 3.3256e-04 - val_loss: 5.3586 - val_accuracy: 0.0000e+00\n",
      "Epoch 46/100\n",
      "94/94 [==============================] - 0s 737us/step - loss: 5.0791 - accuracy: 3.3256e-04 - val_loss: 5.3508 - val_accuracy: 0.0000e+00\n",
      "Epoch 47/100\n",
      "94/94 [==============================] - 0s 710us/step - loss: 5.0414 - accuracy: 3.3256e-04 - val_loss: 5.4335 - val_accuracy: 0.0000e+00\n",
      "Epoch 48/100\n",
      "94/94 [==============================] - 0s 699us/step - loss: 5.0353 - accuracy: 3.3256e-04 - val_loss: 5.5843 - val_accuracy: 0.0000e+00\n",
      "Epoch 49/100\n",
      "94/94 [==============================] - 0s 696us/step - loss: 5.0006 - accuracy: 3.3256e-04 - val_loss: 5.4574 - val_accuracy: 0.0000e+00\n",
      "Epoch 50/100\n",
      "94/94 [==============================] - 0s 702us/step - loss: 4.9943 - accuracy: 3.3256e-04 - val_loss: 5.3291 - val_accuracy: 0.0000e+00\n",
      "Epoch 51/100\n",
      "94/94 [==============================] - 0s 721us/step - loss: 4.9803 - accuracy: 3.3256e-04 - val_loss: 5.2246 - val_accuracy: 0.0000e+00\n",
      "Epoch 52/100\n",
      "94/94 [==============================] - 0s 693us/step - loss: 4.9397 - accuracy: 3.3256e-04 - val_loss: 5.2029 - val_accuracy: 0.0000e+00\n",
      "Epoch 53/100\n",
      "94/94 [==============================] - 0s 687us/step - loss: 4.9509 - accuracy: 3.3256e-04 - val_loss: 5.1811 - val_accuracy: 0.0000e+00\n",
      "Epoch 54/100\n",
      "94/94 [==============================] - 0s 683us/step - loss: 4.9328 - accuracy: 3.3256e-04 - val_loss: 5.1797 - val_accuracy: 0.0000e+00\n"
     ]
    },
    {
     "name": "stdout",
     "output_type": "stream",
     "text": [
      "Epoch 55/100\n",
      "94/94 [==============================] - 0s 685us/step - loss: 4.9497 - accuracy: 3.3256e-04 - val_loss: 5.1741 - val_accuracy: 0.0000e+00\n",
      "Epoch 56/100\n",
      "94/94 [==============================] - 0s 686us/step - loss: 4.9157 - accuracy: 3.3256e-04 - val_loss: 5.3000 - val_accuracy: 0.0000e+00\n",
      "Epoch 57/100\n",
      "94/94 [==============================] - 0s 691us/step - loss: 4.9312 - accuracy: 3.3256e-04 - val_loss: 5.1411 - val_accuracy: 0.0000e+00\n",
      "Epoch 58/100\n",
      "94/94 [==============================] - 0s 704us/step - loss: 4.9180 - accuracy: 3.3256e-04 - val_loss: 5.1660 - val_accuracy: 0.0000e+00\n",
      "Epoch 59/100\n",
      "94/94 [==============================] - 0s 685us/step - loss: 4.9138 - accuracy: 3.3256e-04 - val_loss: 5.1515 - val_accuracy: 0.0000e+00\n",
      "Epoch 60/100\n",
      "94/94 [==============================] - 0s 692us/step - loss: 4.8884 - accuracy: 3.3256e-04 - val_loss: 5.1219 - val_accuracy: 0.0000e+00\n",
      "Epoch 61/100\n",
      "94/94 [==============================] - 0s 675us/step - loss: 4.8870 - accuracy: 3.3256e-04 - val_loss: 5.1367 - val_accuracy: 0.0000e+00\n",
      "Epoch 62/100\n",
      "94/94 [==============================] - 0s 681us/step - loss: 4.9037 - accuracy: 3.3256e-04 - val_loss: 5.1584 - val_accuracy: 0.0000e+00\n",
      "Epoch 63/100\n",
      "94/94 [==============================] - 0s 671us/step - loss: 4.8615 - accuracy: 3.3256e-04 - val_loss: 5.3139 - val_accuracy: 0.0000e+00\n",
      "Epoch 64/100\n",
      "94/94 [==============================] - 0s 690us/step - loss: 4.8537 - accuracy: 3.3256e-04 - val_loss: 5.0998 - val_accuracy: 0.0000e+00\n",
      "Epoch 65/100\n",
      "94/94 [==============================] - 0s 710us/step - loss: 4.8815 - accuracy: 3.3256e-04 - val_loss: 5.1312 - val_accuracy: 0.0000e+00\n",
      "Epoch 66/100\n",
      "94/94 [==============================] - 0s 729us/step - loss: 4.8790 - accuracy: 3.3256e-04 - val_loss: 5.1539 - val_accuracy: 0.0000e+00\n",
      "Epoch 67/100\n",
      "94/94 [==============================] - 0s 721us/step - loss: 4.8460 - accuracy: 3.3256e-04 - val_loss: 5.1365 - val_accuracy: 0.0000e+00\n",
      "Epoch 68/100\n",
      "94/94 [==============================] - 0s 700us/step - loss: 4.8131 - accuracy: 3.3256e-04 - val_loss: 5.1387 - val_accuracy: 0.0000e+00\n",
      "Epoch 69/100\n",
      "94/94 [==============================] - 0s 701us/step - loss: 4.8332 - accuracy: 3.3256e-04 - val_loss: 5.1378 - val_accuracy: 0.0000e+00\n",
      "Epoch 70/100\n",
      "94/94 [==============================] - 0s 700us/step - loss: 4.8111 - accuracy: 3.3256e-04 - val_loss: 5.0760 - val_accuracy: 0.0000e+00\n",
      "Epoch 71/100\n",
      "94/94 [==============================] - 0s 696us/step - loss: 4.8455 - accuracy: 3.3256e-04 - val_loss: 5.2655 - val_accuracy: 0.0000e+00\n",
      "Epoch 72/100\n",
      "94/94 [==============================] - 0s 714us/step - loss: 4.8161 - accuracy: 3.3256e-04 - val_loss: 5.2099 - val_accuracy: 0.0000e+00\n",
      "Epoch 73/100\n",
      "94/94 [==============================] - 0s 719us/step - loss: 4.8233 - accuracy: 3.3256e-04 - val_loss: 5.0673 - val_accuracy: 0.0000e+00\n",
      "Epoch 74/100\n",
      "94/94 [==============================] - 0s 738us/step - loss: 4.8233 - accuracy: 3.3256e-04 - val_loss: 5.0652 - val_accuracy: 0.0000e+00\n",
      "Epoch 75/100\n",
      "94/94 [==============================] - 0s 688us/step - loss: 4.8216 - accuracy: 3.3256e-04 - val_loss: 5.0640 - val_accuracy: 0.0000e+00\n",
      "Epoch 76/100\n",
      "94/94 [==============================] - 0s 679us/step - loss: 4.8004 - accuracy: 3.3256e-04 - val_loss: 5.3480 - val_accuracy: 0.0000e+00\n",
      "Epoch 77/100\n",
      "94/94 [==============================] - 0s 679us/step - loss: 4.8279 - accuracy: 3.3256e-04 - val_loss: 5.1338 - val_accuracy: 0.0000e+00\n",
      "Epoch 78/100\n",
      "94/94 [==============================] - 0s 687us/step - loss: 4.8018 - accuracy: 3.3256e-04 - val_loss: 5.2903 - val_accuracy: 0.0000e+00\n",
      "Epoch 79/100\n",
      "94/94 [==============================] - 0s 676us/step - loss: 4.8500 - accuracy: 3.3256e-04 - val_loss: 5.0552 - val_accuracy: 0.0000e+00\n",
      "Epoch 80/100\n",
      "94/94 [==============================] - 0s 705us/step - loss: 4.7820 - accuracy: 3.3256e-04 - val_loss: 5.0456 - val_accuracy: 0.0000e+00\n",
      "Epoch 81/100\n",
      "94/94 [==============================] - 0s 686us/step - loss: 4.7869 - accuracy: 3.3256e-04 - val_loss: 5.2791 - val_accuracy: 0.0000e+00\n",
      "Epoch 82/100\n",
      "94/94 [==============================] - 0s 687us/step - loss: 4.8125 - accuracy: 3.3256e-04 - val_loss: 5.1288 - val_accuracy: 0.0000e+00\n",
      "Epoch 83/100\n",
      "94/94 [==============================] - 0s 711us/step - loss: 4.7715 - accuracy: 3.3256e-04 - val_loss: 5.0380 - val_accuracy: 0.0000e+00\n",
      "Epoch 84/100\n",
      "94/94 [==============================] - 0s 693us/step - loss: 4.7787 - accuracy: 3.3256e-04 - val_loss: 5.0399 - val_accuracy: 0.0000e+00\n",
      "Epoch 85/100\n",
      "94/94 [==============================] - 0s 723us/step - loss: 4.7809 - accuracy: 3.3256e-04 - val_loss: 5.0384 - val_accuracy: 0.0000e+00\n",
      "Epoch 86/100\n",
      "94/94 [==============================] - 0s 687us/step - loss: 4.7852 - accuracy: 3.3256e-04 - val_loss: 5.1716 - val_accuracy: 0.0000e+00\n",
      "Epoch 87/100\n",
      "94/94 [==============================] - 0s 721us/step - loss: 4.7741 - accuracy: 3.3256e-04 - val_loss: 5.0310 - val_accuracy: 0.0000e+00\n",
      "Epoch 88/100\n",
      "94/94 [==============================] - 0s 683us/step - loss: 4.7474 - accuracy: 3.3256e-04 - val_loss: 5.0705 - val_accuracy: 0.0000e+00\n",
      "Epoch 89/100\n",
      "94/94 [==============================] - 0s 687us/step - loss: 4.7503 - accuracy: 3.3256e-04 - val_loss: 5.0288 - val_accuracy: 0.0000e+00\n",
      "Epoch 90/100\n",
      "94/94 [==============================] - 0s 692us/step - loss: 4.7392 - accuracy: 3.3256e-04 - val_loss: 5.0263 - val_accuracy: 0.0000e+00\n",
      "Epoch 91/100\n",
      "94/94 [==============================] - 0s 708us/step - loss: 4.7854 - accuracy: 3.3256e-04 - val_loss: 5.1184 - val_accuracy: 0.0000e+00\n",
      "Epoch 92/100\n",
      "94/94 [==============================] - 0s 691us/step - loss: 4.7941 - accuracy: 3.3256e-04 - val_loss: 5.5941 - val_accuracy: 0.0000e+00\n",
      "Epoch 93/100\n",
      "94/94 [==============================] - 0s 675us/step - loss: 4.7427 - accuracy: 3.3256e-04 - val_loss: 5.0298 - val_accuracy: 0.0000e+00\n",
      "Epoch 94/100\n",
      "94/94 [==============================] - 0s 725us/step - loss: 4.7813 - accuracy: 3.3256e-04 - val_loss: 5.1074 - val_accuracy: 0.0000e+00\n",
      "Epoch 95/100\n",
      "94/94 [==============================] - 0s 690us/step - loss: 4.7526 - accuracy: 3.3256e-04 - val_loss: 5.3062 - val_accuracy: 0.0000e+00\n",
      "Epoch 96/100\n",
      "94/94 [==============================] - 0s 700us/step - loss: 4.7781 - accuracy: 3.3256e-04 - val_loss: 5.0140 - val_accuracy: 0.0000e+00\n",
      "Epoch 97/100\n",
      "94/94 [==============================] - 0s 696us/step - loss: 4.7437 - accuracy: 3.3256e-04 - val_loss: 5.3139 - val_accuracy: 0.0000e+00\n",
      "Epoch 98/100\n",
      "94/94 [==============================] - 0s 702us/step - loss: 4.7576 - accuracy: 3.3256e-04 - val_loss: 5.0533 - val_accuracy: 0.0000e+00\n",
      "Epoch 99/100\n",
      "94/94 [==============================] - 0s 703us/step - loss: 4.7496 - accuracy: 3.3256e-04 - val_loss: 5.1042 - val_accuracy: 0.0000e+00\n",
      "Epoch 100/100\n",
      "94/94 [==============================] - 0s 731us/step - loss: 4.7380 - accuracy: 3.3256e-04 - val_loss: 5.0653 - val_accuracy: 0.0000e+00\n"
     ]
    }
   ],
   "source": [
    "history = model.fit(\n",
    "  X_train, y_train,\n",
    "  epochs=10, validation_split = 0.2)"
   ]
  },
  {
   "cell_type": "code",
   "execution_count": 41,
   "id": "empirical-librarian",
   "metadata": {},
   "outputs": [
    {
     "data": {
      "image/png": "[encoded data removed]",
      "text/plain": [
       "<Figure size 432x288 with 1 Axes>"
      ]
     },
     "metadata": {
      "needs_background": "light"
     },
     "output_type": "display_data"
    },
    {
     "data": {
      "image/png": "[encoded data removed]",
      "text/plain": [
       "<Figure size 432x288 with 1 Axes>"
      ]
     },
     "metadata": {
      "needs_background": "light"
     },
     "output_type": "display_data"
    }
   ],
   "source": [
    "def plot_history(history):\n",
    "    hist = pd.DataFrame(history.history)\n",
    "    hist['epoch'] = history.epoch\n",
    "\n",
    "    plt.figure()\n",
    "    plt.xlabel('Epoch')\n",
    "    plt.ylabel('Mean Abs Error [MPG]')\n",
    "    plt.plot(hist['epoch'], hist['mae'],\n",
    "           label='Train Error')\n",
    "    plt.plot(hist['epoch'], hist['val_mae'],\n",
    "           label = 'Val Error')\n",
    "    plt.ylim([0,5])\n",
    "    plt.legend()\n",
    "\n",
    "    plt.figure()\n",
    "    plt.xlabel('Epoch')\n",
    "    plt.ylabel('Mean Square Error [$MPG^2$]')\n",
    "    plt.plot(hist['epoch'], hist['mse'],\n",
    "           label='Train Error')\n",
    "    plt.plot(hist['epoch'], hist['val_mse'],\n",
    "           label = 'Val Error')\n",
    "    plt.ylim([0,20])\n",
    "    plt.legend()\n",
    "    plt.show()\n",
    "\n",
    "\n",
    "plot_history(history)\n"
   ]
  },
  {
   "cell_type": "code",
   "execution_count": 42,
   "id": "attractive-florist",
   "metadata": {},
   "outputs": [
    {
     "data": {
      "image/png": "[encoded data removed]",
      "text/plain": [
       "<Figure size 432x288 with 1 Axes>"
      ]
     },
     "metadata": {
      "needs_background": "light"
     },
     "output_type": "display_data"
    }
   ],
   "source": [
    "test_predictions = model.predict(normed_test_data).flatten()\n",
    "\n",
    "plt.scatter(test_labels, test_predictions)\n",
    "plt.xlabel('True Values [MPG]')\n",
    "plt.ylabel('Predictions [MPG]')\n",
    "plt.axis('equal')\n",
    "plt.axis('square')\n",
    "plt.xlim([0,plt.xlim()[1]])\n",
    "plt.ylim([0,plt.ylim()[1]])\n",
    "_ = plt.plot([-100, 100], [-100, 100])\n"
   ]
  },
  {
   "cell_type": "code",
   "execution_count": null,
   "id": "seventh-institution",
   "metadata": {},
   "outputs": [],
   "source": []
  }
 ],
 "metadata": {
  "kernelspec": {
   "display_name": "dl",
   "language": "python",
   "name": "dl"
  },
  "language_info": {
   "codemirror_mode": {
    "name": "ipython",
    "version": 3
   },
   "file_extension": ".py",
   "mimetype": "text/x-python",
   "name": "python",
   "nbconvert_exporter": "python",
   "pygments_lexer": "ipython3",
   "version": "3.7.10"
  }
 },
 "nbformat": 4,
 "nbformat_minor": 5
}
