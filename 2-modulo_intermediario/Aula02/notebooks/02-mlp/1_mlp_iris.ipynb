{
 "cells": [
  {
   "cell_type": "code",
   "execution_count": 1,
   "metadata": {},
   "outputs": [],
   "source": [
    "# https://www.kaggle.com/niyipop/2-layer-neural-network-from-scratch-using-numpy\n",
    "import numpy as np\n",
    "import pandas as pd\n",
    "#import seaborn as sns\n",
    "import matplotlib.pyplot as plt\n",
    "\n",
    "import warnings\n",
    "warnings.simplefilter(action='ignore', category=FutureWarning)\n",
    "from sklearn.model_selection import train_test_split\n",
    "from tensorflow import keras"
   ]
  },
  {
   "cell_type": "markdown",
   "metadata": {},
   "source": [
    "# Dasaset"
   ]
  },
  {
   "cell_type": "code",
   "execution_count": 2,
   "metadata": {},
   "outputs": [
    {
     "data": {
      "text/plain": [
       "'/home/fred/.keras/datasets/iris.data'"
      ]
     },
     "execution_count": 2,
     "metadata": {},
     "output_type": "execute_result"
    }
   ],
   "source": [
    "dataset_path = keras.utils.get_file(\"iris.data\", \"https://storage.googleapis.com/download.tensorflow.org/data/iris_training.csv\")\n",
    "dataset_path"
   ]
  },
  {
   "cell_type": "code",
   "execution_count": 4,
   "metadata": {},
   "outputs": [
    {
     "data": {
      "text/html": [
       "<div>\n",
       "<style scoped>\n",
       "    .dataframe tbody tr th:only-of-type {\n",
       "        vertical-align: middle;\n",
       "    }\n",
       "\n",
       "    .dataframe tbody tr th {\n",
       "        vertical-align: top;\n",
       "    }\n",
       "\n",
       "    .dataframe thead th {\n",
       "        text-align: right;\n",
       "    }\n",
       "</style>\n",
       "<table border=\"1\" class=\"dataframe\">\n",
       "  <thead>\n",
       "    <tr style=\"text-align: right;\">\n",
       "      <th></th>\n",
       "      <th>sepal_length</th>\n",
       "      <th>sepal_width</th>\n",
       "      <th>petal_length</th>\n",
       "      <th>petal_width</th>\n",
       "      <th>species</th>\n",
       "    </tr>\n",
       "  </thead>\n",
       "  <tbody>\n",
       "    <tr>\n",
       "      <th>0</th>\n",
       "      <td>6.4</td>\n",
       "      <td>2.8</td>\n",
       "      <td>5.6</td>\n",
       "      <td>2.2</td>\n",
       "      <td>2</td>\n",
       "    </tr>\n",
       "    <tr>\n",
       "      <th>1</th>\n",
       "      <td>5.0</td>\n",
       "      <td>2.3</td>\n",
       "      <td>3.3</td>\n",
       "      <td>1.0</td>\n",
       "      <td>1</td>\n",
       "    </tr>\n",
       "    <tr>\n",
       "      <th>2</th>\n",
       "      <td>4.9</td>\n",
       "      <td>2.5</td>\n",
       "      <td>4.5</td>\n",
       "      <td>1.7</td>\n",
       "      <td>2</td>\n",
       "    </tr>\n",
       "    <tr>\n",
       "      <th>3</th>\n",
       "      <td>4.9</td>\n",
       "      <td>3.1</td>\n",
       "      <td>1.5</td>\n",
       "      <td>0.1</td>\n",
       "      <td>0</td>\n",
       "    </tr>\n",
       "    <tr>\n",
       "      <th>4</th>\n",
       "      <td>5.7</td>\n",
       "      <td>3.8</td>\n",
       "      <td>1.7</td>\n",
       "      <td>0.3</td>\n",
       "      <td>0</td>\n",
       "    </tr>\n",
       "    <tr>\n",
       "      <th>...</th>\n",
       "      <td>...</td>\n",
       "      <td>...</td>\n",
       "      <td>...</td>\n",
       "      <td>...</td>\n",
       "      <td>...</td>\n",
       "    </tr>\n",
       "    <tr>\n",
       "      <th>115</th>\n",
       "      <td>5.5</td>\n",
       "      <td>2.6</td>\n",
       "      <td>4.4</td>\n",
       "      <td>1.2</td>\n",
       "      <td>1</td>\n",
       "    </tr>\n",
       "    <tr>\n",
       "      <th>116</th>\n",
       "      <td>5.7</td>\n",
       "      <td>3.0</td>\n",
       "      <td>4.2</td>\n",
       "      <td>1.2</td>\n",
       "      <td>1</td>\n",
       "    </tr>\n",
       "    <tr>\n",
       "      <th>117</th>\n",
       "      <td>4.4</td>\n",
       "      <td>2.9</td>\n",
       "      <td>1.4</td>\n",
       "      <td>0.2</td>\n",
       "      <td>0</td>\n",
       "    </tr>\n",
       "    <tr>\n",
       "      <th>118</th>\n",
       "      <td>4.8</td>\n",
       "      <td>3.0</td>\n",
       "      <td>1.4</td>\n",
       "      <td>0.1</td>\n",
       "      <td>0</td>\n",
       "    </tr>\n",
       "    <tr>\n",
       "      <th>119</th>\n",
       "      <td>5.5</td>\n",
       "      <td>2.4</td>\n",
       "      <td>3.7</td>\n",
       "      <td>1.0</td>\n",
       "      <td>1</td>\n",
       "    </tr>\n",
       "  </tbody>\n",
       "</table>\n",
       "<p>120 rows × 5 columns</p>\n",
       "</div>"
      ],
      "text/plain": [
       "     sepal_length  sepal_width  petal_length  petal_width  species\n",
       "0             6.4          2.8           5.6          2.2        2\n",
       "1             5.0          2.3           3.3          1.0        1\n",
       "2             4.9          2.5           4.5          1.7        2\n",
       "3             4.9          3.1           1.5          0.1        0\n",
       "4             5.7          3.8           1.7          0.3        0\n",
       "..            ...          ...           ...          ...      ...\n",
       "115           5.5          2.6           4.4          1.2        1\n",
       "116           5.7          3.0           4.2          1.2        1\n",
       "117           4.4          2.9           1.4          0.2        0\n",
       "118           4.8          3.0           1.4          0.1        0\n",
       "119           5.5          2.4           3.7          1.0        1\n",
       "\n",
       "[120 rows x 5 columns]"
      ]
     },
     "execution_count": 4,
     "metadata": {},
     "output_type": "execute_result"
    }
   ],
   "source": [
    "dataframe = pd.read_csv(dataset_path)\n",
    "dataframe.columns = ['sepal_length', 'sepal_width', 'petal_length', 'petal_width', 'species']\n",
    "dataset = dataframe.values\n",
    "dataframe"
   ]
  },
  {
   "cell_type": "code",
   "execution_count": 5,
   "metadata": {},
   "outputs": [
    {
     "data": {
      "image/png": "[encoded data removed]",
      "text/plain": [
       "<Figure size 432x288 with 1 Axes>"
      ]
     },
     "metadata": {
      "needs_background": "light"
     },
     "output_type": "display_data"
    }
   ],
   "source": [
    "plt.scatter(dataframe['petal_length'],\n",
    "            dataframe['sepal_length'],\n",
    "            c=dataframe['species'],\n",
    "            cmap='viridis')\n",
    "\n",
    "plt.xlabel(\"Petal length\")\n",
    "plt.ylabel(\"Sepal length\")\n",
    "plt.show()\n"
   ]
  },
  {
   "cell_type": "code",
   "execution_count": 6,
   "metadata": {},
   "outputs": [],
   "source": [
    "# split into input (X) and output (Y) variables\n",
    "X = pd.DataFrame(dataset[:,0:4]).astype(float)\n",
    "y = pd.DataFrame(dataset[:,4])\n",
    "y = y.astype('int')"
   ]
  },
  {
   "cell_type": "code",
   "execution_count": 8,
   "metadata": {},
   "outputs": [
    {
     "data": {
      "text/plain": [
       "(120, 4)"
      ]
     },
     "execution_count": 8,
     "metadata": {},
     "output_type": "execute_result"
    }
   ],
   "source": [
    "X.shape"
   ]
  },
  {
   "cell_type": "code",
   "execution_count": 10,
   "metadata": {},
   "outputs": [
    {
     "data": {
      "text/plain": [
       "array([[0., 0., 1.],\n",
       "       [0., 1., 0.],\n",
       "       [0., 0., 1.],\n",
       "       [1., 0., 0.],\n",
       "       [1., 0., 0.],\n",
       "       [1., 0., 0.],\n",
       "       [1., 0., 0.],\n",
       "       [0., 0., 1.],\n",
       "       [0., 1., 0.],\n",
       "       [1., 0., 0.],\n",
       "       [0., 1., 0.],\n",
       "       [0., 1., 0.],\n",
       "       [1., 0., 0.],\n",
       "       [1., 0., 0.],\n",
       "       [0., 0., 1.],\n",
       "       [0., 1., 0.],\n",
       "       [0., 0., 1.],\n",
       "       [0., 0., 1.],\n",
       "       [0., 0., 1.],\n",
       "       [1., 0., 0.],\n",
       "       [0., 0., 1.],\n",
       "       [0., 0., 1.],\n",
       "       [1., 0., 0.],\n",
       "       [0., 0., 1.],\n",
       "       [0., 0., 1.],\n",
       "       [1., 0., 0.],\n",
       "       [0., 1., 0.],\n",
       "       [0., 0., 1.],\n",
       "       [0., 1., 0.],\n",
       "       [0., 1., 0.],\n",
       "       [0., 1., 0.],\n",
       "       [0., 1., 0.],\n",
       "       [0., 1., 0.],\n",
       "       [0., 0., 1.],\n",
       "       [0., 0., 1.],\n",
       "       [0., 0., 1.],\n",
       "       [0., 0., 1.],\n",
       "       [0., 0., 1.],\n",
       "       [1., 0., 0.],\n",
       "       [1., 0., 0.],\n",
       "       [0., 0., 1.],\n",
       "       [0., 0., 1.],\n",
       "       [0., 0., 1.],\n",
       "       [1., 0., 0.],\n",
       "       [1., 0., 0.],\n",
       "       [0., 0., 1.],\n",
       "       [1., 0., 0.],\n",
       "       [0., 0., 1.],\n",
       "       [1., 0., 0.],\n",
       "       [0., 0., 1.],\n",
       "       [1., 0., 0.],\n",
       "       [0., 1., 0.],\n",
       "       [0., 1., 0.],\n",
       "       [1., 0., 0.],\n",
       "       [0., 1., 0.],\n",
       "       [0., 0., 1.],\n",
       "       [0., 0., 1.],\n",
       "       [0., 0., 1.],\n",
       "       [0., 0., 1.],\n",
       "       [0., 1., 0.],\n",
       "       [0., 1., 0.],\n",
       "       [0., 0., 1.],\n",
       "       [0., 0., 1.],\n",
       "       [0., 0., 1.],\n",
       "       [0., 1., 0.],\n",
       "       [0., 0., 1.],\n",
       "       [1., 0., 0.],\n",
       "       [0., 0., 1.],\n",
       "       [0., 0., 1.],\n",
       "       [1., 0., 0.],\n",
       "       [1., 0., 0.],\n",
       "       [0., 1., 0.],\n",
       "       [1., 0., 0.],\n",
       "       [0., 0., 1.],\n",
       "       [0., 0., 1.],\n",
       "       [1., 0., 0.],\n",
       "       [0., 1., 0.],\n",
       "       [0., 1., 0.],\n",
       "       [0., 1., 0.],\n",
       "       [0., 0., 1.],\n",
       "       [1., 0., 0.],\n",
       "       [0., 1., 0.],\n",
       "       [0., 1., 0.],\n",
       "       [0., 1., 0.],\n",
       "       [0., 0., 1.],\n",
       "       [1., 0., 0.],\n",
       "       [0., 1., 0.],\n",
       "       [0., 1., 0.],\n",
       "       [0., 1., 0.],\n",
       "       [1., 0., 0.],\n",
       "       [0., 0., 1.],\n",
       "       [0., 1., 0.],\n",
       "       [1., 0., 0.],\n",
       "       [1., 0., 0.],\n",
       "       [0., 0., 1.],\n",
       "       [1., 0., 0.],\n",
       "       [1., 0., 0.],\n",
       "       [0., 0., 1.],\n",
       "       [0., 1., 0.],\n",
       "       [1., 0., 0.],\n",
       "       [1., 0., 0.],\n",
       "       [0., 1., 0.],\n",
       "       [1., 0., 0.],\n",
       "       [0., 1., 0.],\n",
       "       [1., 0., 0.],\n",
       "       [1., 0., 0.],\n",
       "       [1., 0., 0.],\n",
       "       [1., 0., 0.],\n",
       "       [0., 1., 0.],\n",
       "       [1., 0., 0.],\n",
       "       [0., 0., 1.],\n",
       "       [0., 1., 0.],\n",
       "       [1., 0., 0.],\n",
       "       [0., 0., 1.],\n",
       "       [1., 0., 0.],\n",
       "       [0., 1., 0.],\n",
       "       [0., 1., 0.],\n",
       "       [1., 0., 0.],\n",
       "       [1., 0., 0.],\n",
       "       [0., 1., 0.]])"
      ]
     },
     "execution_count": 10,
     "metadata": {},
     "output_type": "execute_result"
    }
   ],
   "source": [
    "from sklearn.preprocessing import OneHotEncoder\n",
    "# One Hot encode the class labels\n",
    "encoder = OneHotEncoder(sparse=False)\n",
    "y = encoder.fit_transform(y)\n",
    "y"
   ]
  },
  {
   "cell_type": "code",
   "execution_count": 11,
   "metadata": {},
   "outputs": [],
   "source": [
    "#Split data to training and validation data\n",
    "X_train, X_test, y_train, y_test = train_test_split(X, y, test_size=0.1)"
   ]
  },
  {
   "cell_type": "markdown",
   "metadata": {},
   "source": [
    "# Activation Function"
   ]
  },
  {
   "cell_type": "code",
   "execution_count": 17,
   "metadata": {},
   "outputs": [],
   "source": [
    "#sigmoid and its derivative\n",
    "def sigmoid(x, derivative = False):\n",
    "    if derivative:\n",
    "        return sigmoid(x)*(1 - sigmoid(x))\n",
    "    \n",
    "    return 1/(1+np.exp(-x))  "
   ]
  },
  {
   "cell_type": "code",
   "execution_count": 12,
   "metadata": {},
   "outputs": [],
   "source": [
    "def softmax(x):\n",
    "    \"\"\"Compute softmax values for each sets of scores in x.\"\"\"\n",
    "    e_x = np.exp(x - np.max(x))\n",
    "    return e_x / e_x.sum(axis=0)"
   ]
  },
  {
   "cell_type": "code",
   "execution_count": 32,
   "metadata": {},
   "outputs": [
    {
     "data": {
      "text/plain": [
       "array([0.09003057, 0.24472847, 0.66524096])"
      ]
     },
     "execution_count": 32,
     "metadata": {},
     "output_type": "execute_result"
    }
   ],
   "source": [
    "tmp = [1, 2, 3]\n",
    "tmp = softmax(tmp)\n",
    "tmp\n"
   ]
  },
  {
   "cell_type": "code",
   "execution_count": 39,
   "metadata": {},
   "outputs": [],
   "source": [
    "input_dims = 4\n",
    "hidden_dims = 32\n",
    "output_dims = 3"
   ]
  },
  {
   "cell_type": "code",
   "execution_count": 40,
   "metadata": {},
   "outputs": [],
   "source": [
    "#Initialization Weights\n",
    "w0 = 2 * np.random.random((input_dims, hidden_dims)) -1\n",
    "w1 = 2 * np.random.random((hidden_dims, output_dims)) -1"
   ]
  },
  {
   "cell_type": "code",
   "execution_count": 41,
   "metadata": {},
   "outputs": [
    {
     "name": "stdout",
     "output_type": "stream",
     "text": [
      "Error: 0.5326515962 Acc: 46.734840378245416\n",
      "Error: 0.4623470880 Acc: 53.76529119806752\n",
      "Error: 0.4594125405 Acc: 54.058745952571606\n",
      "Error: 0.4023448839 Acc: 59.76551161336003\n",
      "Error: 0.4322614500 Acc: 56.77385500487673\n",
      "Error: 0.2940478742 Acc: 70.59521257851304\n",
      "Error: 0.4237856563 Acc: 57.621434374912695\n",
      "Error: 0.2914890025 Acc: 70.8510997464304\n",
      "Error: 0.3117457236 Acc: 68.82542764327599\n",
      "Error: 0.3181244991 Acc: 68.18755009288813\n",
      "Error: 0.4279212904 Acc: 57.20787095707368\n",
      "Error: 0.2994267085 Acc: 70.05732915250043\n",
      "Error: 0.3277304301 Acc: 67.22695698983412\n",
      "Error: 0.4005069493 Acc: 59.94930506788625\n",
      "Error: 0.2445816786 Acc: 75.54183213720951\n",
      "Error: 0.4069061727 Acc: 59.30938272531301\n",
      "Error: 0.2537577687 Acc: 74.62422313201048\n",
      "Error: 0.2667112493 Acc: 73.32887507391173\n",
      "Error: 0.2722109226 Acc: 72.77890773953942\n",
      "Error: 0.2614424389 Acc: 73.85575611498265\n",
      "Error: 0.2911865909 Acc: 70.88134090622695\n",
      "Error: 0.3070451825 Acc: 69.29548175026696\n",
      "Error: 0.2855660134 Acc: 71.44339866014067\n",
      "Error: 0.2310950840 Acc: 76.89049160002035\n",
      "Error: 0.3403760358 Acc: 65.96239641658974\n",
      "Error: 0.2792584494 Acc: 72.07415505812979\n",
      "Error: 0.3761045311 Acc: 62.38954689394065\n",
      "Error: 0.2905040321 Acc: 70.94959678860863\n",
      "Error: 0.2571689423 Acc: 74.28310576947655\n",
      "Error: 0.2354674075 Acc: 76.45325925234113\n",
      "Error: 0.2001851391 Acc: 79.98148608684895\n",
      "Error: 0.2515150295 Acc: 74.84849704726348\n",
      "Error: 0.2060047834 Acc: 79.39952165987738\n",
      "Error: 0.3129283168 Acc: 68.70716832104603\n",
      "Error: 0.3036371950 Acc: 69.63628050114843\n",
      "Error: 0.2808767310 Acc: 71.91232690051537\n",
      "Error: 0.2119385387 Acc: 78.80614612813721\n",
      "Error: 0.2067302084 Acc: 79.32697915740466\n",
      "Error: 0.1915984751 Acc: 80.84015249285507\n",
      "Error: 0.2052243078 Acc: 79.47756921899553\n",
      "Error: 0.1791113237 Acc: 82.08886762700442\n",
      "Error: 0.2457486161 Acc: 75.42513838819613\n",
      "Error: 0.1920427469 Acc: 80.79572531213041\n",
      "Error: 0.2456740670 Acc: 75.43259330407594\n",
      "Error: 0.1969330527 Acc: 80.30669473071843\n",
      "Error: 0.2316377223 Acc: 76.83622776784568\n",
      "Error: 0.1701700974 Acc: 82.98299025604798\n",
      "Error: 0.2265218741 Acc: 77.34781258934214\n",
      "Error: 0.1676047417 Acc: 83.23952583059722\n",
      "Error: 0.2218773483 Acc: 77.81226517394457\n",
      "Error: 0.1685954277 Acc: 83.14045723136344\n",
      "Error: 0.2249435644 Acc: 77.50564355822274\n",
      "Error: 0.1664113708 Acc: 83.35886292402115\n",
      "Error: 0.2019673096 Acc: 79.80326904431742\n",
      "Error: 0.1540005887 Acc: 84.59994113492806\n",
      "Error: 0.2210749527 Acc: 77.89250472782699\n",
      "Error: 0.1894657766 Acc: 81.0534223365948\n",
      "Error: 0.2380445089 Acc: 76.19554910637069\n",
      "Error: 0.2094699682 Acc: 79.05300317699763\n",
      "Error: 0.1682821958 Acc: 83.1717804222165\n",
      "Error: 0.2039156775 Acc: 79.60843224985071\n",
      "Error: 0.1533620470 Acc: 84.66379530029018\n",
      "Error: 0.2240388510 Acc: 77.59611489831035\n",
      "Error: 0.1822981969 Acc: 81.77018030708463\n",
      "Error: 0.2271253161 Acc: 77.28746838510196\n",
      "Error: 0.1810172282 Acc: 81.89827718085196\n",
      "Error: 0.1675764864 Acc: 83.24235135592704\n",
      "Error: 0.2179174424 Acc: 78.20825576128618\n",
      "Error: 0.2545289667 Acc: 74.54710332883592\n",
      "Error: 0.3722991537 Acc: 62.77008463337685\n",
      "Error: 0.3002557839 Acc: 69.97442161203435\n",
      "Error: 0.3058653372 Acc: 69.41346627940446\n",
      "Error: 0.2276841948 Acc: 77.23158052464049\n",
      "Error: 0.1687047347 Acc: 83.12952652613626\n",
      "Error: 0.2357535401 Acc: 76.42464599060263\n",
      "Error: 0.1877806760 Acc: 81.22193239628044\n",
      "Error: 0.1627353184 Acc: 83.7264681593028\n",
      "Error: 0.1604032972 Acc: 83.9596702849531\n",
      "Error: 0.1550955073 Acc: 84.49044926827047\n",
      "Error: 0.1276489456 Acc: 87.23510543934225\n",
      "Error: 0.2201573584 Acc: 77.98426415750941\n",
      "Error: 0.2085233647 Acc: 79.14766352972153\n",
      "Error: 0.2480824684 Acc: 75.19175315651681\n",
      "Error: 0.2291658738 Acc: 77.0834126194523\n",
      "Error: 0.1704186547 Acc: 82.95813452961403\n",
      "Error: 0.1682315470 Acc: 83.17684529650118\n",
      "Error: 0.1420549380 Acc: 85.79450620422693\n",
      "Error: 0.1944219493 Acc: 80.5578050709207\n",
      "Error: 0.2106626747 Acc: 78.93373252906626\n",
      "Error: 0.2307618964 Acc: 76.92381035929498\n",
      "Error: 0.2229409747 Acc: 77.70590252545388\n",
      "Error: 0.1538817411 Acc: 84.61182588524746\n",
      "Error: 0.1735262592 Acc: 82.64737408030652\n",
      "Error: 0.1382343737 Acc: 86.17656262507076\n",
      "Error: 0.2119297964 Acc: 78.80702036092059\n",
      "Error: 0.1806325531 Acc: 81.93674468742125\n",
      "Error: 0.2307068111 Acc: 76.92931888727257\n",
      "Error: 0.1844603622 Acc: 81.55396377983938\n",
      "Error: 0.1348393933 Acc: 86.51606066830671\n",
      "Error: 0.1770709822 Acc: 82.29290178125166\n"
     ]
    }
   ],
   "source": [
    "#learning rate\n",
    "learning_rate = 0.1\n",
    "\n",
    "#Errors - for graph later\n",
    "errors = []\n",
    "# Acc - for graph later\n",
    "acc = []\n",
    "\n",
    "epochs = 100\n",
    "#Train\n",
    "for i in range(epochs):\n",
    "\n",
    "    #Feed forward\n",
    "    layer0 = X\n",
    "    layer1 = sigmoid(np.dot(layer0, w0))\n",
    "    layer2 = sigmoid(np.dot(layer1, w1))\n",
    "\n",
    "    # Error\n",
    "    layer2_error = y - layer2\n",
    "    \n",
    "    # Back propagation\n",
    "\n",
    "    layer2_delta = layer2_error * sigmoid(layer2, derivative=True)\n",
    "    \n",
    "    layer1_error = layer2_delta.dot(w1.T)\n",
    "    layer1_delta = layer1_error * sigmoid(layer1, derivative=True)\n",
    "    \n",
    "    #  Gradient descent\n",
    "    w1 += learning_rate * layer1.T.dot(layer2_delta)\n",
    "    w0 += learning_rate * layer0.T.dot(layer1_delta)\n",
    "    \n",
    "    error = np.mean(np.abs(layer2_error))\n",
    "    errors.append(error)\n",
    "    accuracy = (1 - error) * 100\n",
    "    acc.append(accuracy)\n",
    "    \n",
    "    print('Error: {:.10f} Acc: {}'.format(error, accuracy))\n"
   ]
  },
  {
   "cell_type": "code",
   "execution_count": 42,
   "metadata": {},
   "outputs": [
    {
     "data": {
      "image/png": "[encoded data removed]",
      "text/plain": [
       "<Figure size 432x288 with 1 Axes>"
      ]
     },
     "metadata": {
      "needs_background": "light"
     },
     "output_type": "display_data"
    }
   ],
   "source": [
    "#Plot the error chart\n",
    "plt.plot(errors)\n",
    "plt.xlabel('Epoch')\n",
    "plt.ylabel('Error')\n",
    "plt.show()\n",
    "    "
   ]
  },
  {
   "cell_type": "code",
   "execution_count": 43,
   "metadata": {},
   "outputs": [
    {
     "data": {
      "image/png": "[encoded data removed]",
      "text/plain": [
       "<Figure size 432x288 with 1 Axes>"
      ]
     },
     "metadata": {
      "needs_background": "light"
     },
     "output_type": "display_data"
    },
    {
     "name": "stdout",
     "output_type": "stream",
     "text": [
      "Training Accuracy 82.29%\n"
     ]
    }
   ],
   "source": [
    "#Plot the accuracy chart\n",
    "plt.plot(acc)\n",
    "plt.xlabel('Epoch')\n",
    "plt.ylabel('Accuracy')\n",
    "plt.show()\n",
    "print(\"Training Accuracy \" + str(round(accuracy,2)) + \"%\")"
   ]
  },
  {
   "cell_type": "code",
   "execution_count": null,
   "metadata": {},
   "outputs": [],
   "source": []
  },
  {
   "cell_type": "code",
   "execution_count": null,
   "metadata": {},
   "outputs": [],
   "source": []
  }
 ],
 "metadata": {
  "kernelspec": {
   "display_name": "dl",
   "language": "python",
   "name": "dl"
  },
  "language_info": {
   "codemirror_mode": {
    "name": "ipython",
    "version": 3
   },
   "file_extension": ".py",
   "mimetype": "text/x-python",
   "name": "python",
   "nbconvert_exporter": "python",
   "pygments_lexer": "ipython3",
   "version": "3.7.10"
  }
 },
 "nbformat": 4,
 "nbformat_minor": 4
}
