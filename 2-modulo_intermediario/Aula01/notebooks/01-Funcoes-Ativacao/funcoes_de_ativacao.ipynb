{
  "cells": [
    {
      "cell_type": "markdown",
      "metadata": {
        "id": "t8BB_evMGnF7"
      },
      "source": [
        "# Sumário"
      ]
    },
    {
      "cell_type": "markdown",
      "metadata": {
        "id": "VWXNJ93lGnF8"
      },
      "source": [
        "- [Linear](#Linear)\n",
        "- [Sigmoid](#Sigmoid)\n",
        "- [Tanh](#Tanh)\n",
        "- [Rectified Linear Unit (ReLU)](#Rectified-Linear-Unit-(ReLU))\n",
        "- [Leaky ReLU](#Leaky-ReLU)\n",
        "- [Exponential Linear Unit (eLU)](#Exponential-Linear-Unit-(eLU))\n",
        "- [Tabela das Funções de Ativação](#Tabela-das-Funções-de-Ativação)\n",
        "- [Referências](#Referências)"
      ]
    },
    {
      "cell_type": "code",
      "execution_count": null,
      "metadata": {
        "id": "Hb2tm2E3GnF-"
      },
      "outputs": [],
      "source": [
        "import numpy as np\n",
        "import matplotlib.pyplot as plt\n",
        "import ipywidgets as wg\n",
        "from ipywidgets import interactive, fixed\n",
        "\n",
        "%matplotlib inline"
      ]
    },
    {
      "cell_type": "code",
      "execution_count": null,
      "metadata": {
        "id": "Ht9LWg4vGnGB"
      },
      "outputs": [],
      "source": [
        "def plot_interactive(w, b, func, ylim=fixed((0, 1)), show_der=False):\n",
        "    plt.figure(0)\n",
        "    \n",
        "    x = np.linspace(-10, 10, num=1000)\n",
        "    z = w*x + b\n",
        "    y = func(z)\n",
        "    \n",
        "    plt.plot(x, y, color='blue')\n",
        "    if show_der:\n",
        "        der = func(z, derivative=True)\n",
        "        y_der_z = der\n",
        "        y_der_x = w*der\n",
        "        plt.plot(x, y_der_z, color='red')\n",
        "        plt.plot(x, y_der_x, color='green')\n",
        "    plt.xlim(-10, 10)\n",
        "    plt.ylim(ylim[0], ylim[1])\n",
        "    plt.show()"
      ]
    },
    {
      "cell_type": "markdown",
      "metadata": {
        "id": "2EmDMfF2GnGC"
      },
      "source": [
        "# Linear"
      ]
    },
    {
      "cell_type": "markdown",
      "metadata": {
        "id": "jPH4fpwOGnGD"
      },
      "source": [
        "$$y=x$$\n",
        "\n",
        "$$y^\\prime = 1$$"
      ]
    },
    {
      "cell_type": "code",
      "execution_count": null,
      "metadata": {
        "id": "DcA98I5nGnGD"
      },
      "outputs": [],
      "source": [
        "def linear(x, derivative=False):\n",
        "    return np.ones_like(x) if derivative else x"
      ]
    },
    {
      "cell_type": "code",
      "execution_count": null,
      "metadata": {
        "id": "bYFhzK-uGnGE",
        "outputId": "d53c0c43-7f91-43cb-b248-fd67aa51cfee",
        "colab": {
          "referenced_widgets": [
            "bbf671d4465a44f4893ec30cb58a1b90"
          ]
        }
      },
      "outputs": [
        {
          "data": {
            "application/vnd.jupyter.widget-view+json": {
              "model_id": "bbf671d4465a44f4893ec30cb58a1b90",
              "version_major": 2,
              "version_minor": 0
            },
            "text/plain": [
              "interactive(children=(FloatSlider(value=0.0, description='w', max=2.0, min=-2.0), FloatSlider(value=0.0, descr…"
            ]
          },
          "metadata": {},
          "output_type": "display_data"
        }
      ],
      "source": [
        "interactive_plot = interactive(plot_interactive, w=(-2.0, 2.0), b=(-3, 3, 0.5), func=fixed(linear), ylim=fixed((-10, 10)))\n",
        "interactive_plot"
      ]
    },
    {
      "cell_type": "markdown",
      "metadata": {
        "id": "GTXt6cBrGnGG"
      },
      "source": [
        "# Sigmoid "
      ]
    },
    {
      "cell_type": "markdown",
      "metadata": {
        "id": "owDzGBjkGnGH"
      },
      "source": [
        "$$y = \\frac{1}{1+e^{-x}}$$\n",
        "\n",
        "$$y^\\prime = y(1-y)$$"
      ]
    },
    {
      "cell_type": "code",
      "execution_count": null,
      "metadata": {
        "id": "qHGq9zH5GnGI"
      },
      "outputs": [],
      "source": [
        "def sigmoid(x, derivative=False):\n",
        "    if derivative:\n",
        "        y = sigmoid(x)\n",
        "        return y*(1 - y)\n",
        "    return 1.0 / (1.0 + np.exp(-x))"
      ]
    },
    {
      "cell_type": "code",
      "execution_count": null,
      "metadata": {
        "id": "riXhv0hVGnGJ",
        "outputId": "c892af99-8c24-40b8-f5f5-a547f63b437e",
        "colab": {
          "referenced_widgets": [
            "21fdf89f6d704abfb14ee8c174ef6a89"
          ]
        }
      },
      "outputs": [
        {
          "data": {
            "application/vnd.jupyter.widget-view+json": {
              "model_id": "21fdf89f6d704abfb14ee8c174ef6a89",
              "version_major": 2,
              "version_minor": 0
            },
            "text/plain": [
              "interactive(children=(FloatSlider(value=0.0, description='w', max=2.0, min=-2.0), FloatSlider(value=0.0, descr…"
            ]
          },
          "metadata": {},
          "output_type": "display_data"
        }
      ],
      "source": [
        "interactive_plot = interactive(plot_interactive, w=(-2.0, 2.0), b=(-3, 3, 0.5), func=fixed(sigmoid))\n",
        "interactive_plot"
      ]
    },
    {
      "cell_type": "markdown",
      "metadata": {
        "id": "bA4ma5GWGnGJ"
      },
      "source": [
        "# Tanh"
      ]
    },
    {
      "cell_type": "markdown",
      "metadata": {
        "id": "nZQ6TCOmGnGK"
      },
      "source": [
        "$$y = \\frac{e^x - e^{-x}}{e^x+e^{-x}}$$\n",
        "\n",
        "$$y^\\prime = 1 - y^2$$"
      ]
    },
    {
      "cell_type": "code",
      "execution_count": null,
      "metadata": {
        "id": "iNP3Up8YGnGK"
      },
      "outputs": [],
      "source": [
        "def tanh(x, derivative=False):\n",
        "    if derivative:\n",
        "        y = tanh(x)\n",
        "        return 1 - y**2\n",
        "    return (np.exp(x) - np.exp(-x)) / (np.exp(x) + np.exp(-x))"
      ]
    },
    {
      "cell_type": "code",
      "execution_count": null,
      "metadata": {
        "id": "V5DC8MihGnGK",
        "outputId": "b569e9b3-96bc-4e7b-cd0f-c286a3d4b31e",
        "colab": {
          "referenced_widgets": [
            "41a32ee3ea3d4cc9ba7a04bffeb72549"
          ]
        }
      },
      "outputs": [
        {
          "data": {
            "application/vnd.jupyter.widget-view+json": {
              "model_id": "41a32ee3ea3d4cc9ba7a04bffeb72549",
              "version_major": 2,
              "version_minor": 0
            },
            "text/plain": [
              "interactive(children=(FloatSlider(value=0.0, description='w', max=2.0, min=-2.0), FloatSlider(value=0.0, descr…"
            ]
          },
          "metadata": {},
          "output_type": "display_data"
        }
      ],
      "source": [
        "interactive_plot = interactive(plot_interactive, w=(-2.0, 2.0), b=(-3, 3, 0.5), func=fixed(tanh), ylim=fixed((-2, 2)))\n",
        "interactive_plot"
      ]
    },
    {
      "cell_type": "markdown",
      "metadata": {
        "id": "l_mcrMWCGnGL"
      },
      "source": [
        "# Rectified Linear Unit (ReLU)"
      ]
    },
    {
      "cell_type": "markdown",
      "metadata": {
        "id": "2ZEm3I2cGnGL"
      },
      "source": [
        "$$y = max(0, x)$$\n",
        "\n",
        "$$\\frac{\\partial y}{\\partial x} = \\begin{cases}0 &,\\  x \\leq 0\\\\1 &,\\ x > 0\\end{cases}$$\n",
        "\n",
        "__Obs.__: Lembrando que a derivada da ReLU quando x = 0 não existe matematicamente, mas é convencionalmente definida como 0."
      ]
    },
    {
      "cell_type": "code",
      "execution_count": null,
      "metadata": {
        "id": "EVf2PIdeGnGL"
      },
      "outputs": [],
      "source": [
        "def relu(x, derivative=False):\n",
        "    if derivative:\n",
        "        return np.where(x <= 0, 0, 1)\n",
        "    return np.maximum(0, x)\n",
        "    \n",
        "    "
      ]
    },
    {
      "cell_type": "code",
      "execution_count": null,
      "metadata": {
        "id": "18Bux02dGnGM",
        "outputId": "ac257b8b-94a4-4177-edd3-1df884c17d5d",
        "colab": {
          "referenced_widgets": [
            "7dd3547da077422aa61077b740974da3"
          ]
        }
      },
      "outputs": [
        {
          "data": {
            "application/vnd.jupyter.widget-view+json": {
              "model_id": "7dd3547da077422aa61077b740974da3",
              "version_major": 2,
              "version_minor": 0
            },
            "text/plain": [
              "interactive(children=(FloatSlider(value=0.0, description='w', max=2.0, min=-2.0), FloatSlider(value=0.0, descr…"
            ]
          },
          "metadata": {},
          "output_type": "display_data"
        }
      ],
      "source": [
        "interactive_plot = interactive(plot_interactive, w=(-2.0, 2.0), b=(-3, 3, 0.5), func=fixed(relu), ylim=fixed((-1, 10)))\n",
        "interactive_plot"
      ]
    },
    {
      "cell_type": "markdown",
      "metadata": {
        "id": "hqUbw9FcGnGM"
      },
      "source": [
        "# Leaky ReLU "
      ]
    },
    {
      "cell_type": "markdown",
      "metadata": {
        "id": "VXkYoB1RGnGR"
      },
      "source": [
        "$$y = \\begin{cases}\\alpha x &,\\ x \\leq 0\\\\x &,\\ x > 0\\end{cases}$$\n",
        "\n",
        "$$\\frac{\\partial y}{\\partial x} = \\begin{cases}\\alpha &,\\  x \\leq 0\\\\1 &,\\  x > 0\\end{cases}$$"
      ]
    },
    {
      "cell_type": "code",
      "execution_count": null,
      "metadata": {
        "id": "v7Oh8bqkGnGR"
      },
      "outputs": [],
      "source": [
        "def leaky_relu(x, derivative=False):\n",
        "    alpha = 0.1\n",
        "    if derivative:\n",
        "        return np.where(x <= 0, alpha, 1)\n",
        "    return np.where(x <=0, alpha*x, x)\n",
        "    "
      ]
    },
    {
      "cell_type": "code",
      "execution_count": null,
      "metadata": {
        "id": "AWhQnliVGnGS",
        "outputId": "6a4b2bcd-4922-40ce-af08-cb69c920344a",
        "colab": {
          "referenced_widgets": [
            "a7e2f2e701274bd0a43db6f5c04b0efb"
          ]
        }
      },
      "outputs": [
        {
          "data": {
            "application/vnd.jupyter.widget-view+json": {
              "model_id": "a7e2f2e701274bd0a43db6f5c04b0efb",
              "version_major": 2,
              "version_minor": 0
            },
            "text/plain": [
              "interactive(children=(FloatSlider(value=0.0, description='w', max=2.0, min=-2.0), FloatSlider(value=0.0, descr…"
            ]
          },
          "metadata": {},
          "output_type": "display_data"
        }
      ],
      "source": [
        "interactive_plot = interactive(plot_interactive, w=(-2.0, 2.0), b=(-3, 3, 0.5), func=fixed(leaky_relu), ylim=fixed((-1, 10)))\n",
        "interactive_plot"
      ]
    },
    {
      "cell_type": "markdown",
      "metadata": {
        "id": "XikD7iGAGnGS"
      },
      "source": [
        "# Exponential Linear Unit (eLU) "
      ]
    },
    {
      "cell_type": "markdown",
      "metadata": {
        "id": "WcUTTYZCGnGS"
      },
      "source": [
        "$$y = \\begin{cases}\\alpha(e^x -1) &,\\ x \\leq 0\\\\x &,\\ x > 0\\end{cases}$$\n",
        "\n",
        "$$\\frac{\\partial y}{\\partial x} = \\begin{cases}y + \\alpha &,\\  x \\leq 0\\\\1 &,\\  x > 0\\end{cases}$$"
      ]
    },
    {
      "cell_type": "code",
      "execution_count": null,
      "metadata": {
        "id": "UouZvA8tGnGS"
      },
      "outputs": [],
      "source": [
        "def elu(x, derivative=False):\n",
        "    alpha = 1\n",
        "    if derivative:\n",
        "        y = elu(x)\n",
        "        return np.where(x <= 0, y + alpha, 1)\n",
        "    return np.where(x <=0, alpha*(np.exp(x) - 1), x)\n",
        "    "
      ]
    },
    {
      "cell_type": "code",
      "execution_count": null,
      "metadata": {
        "id": "Tvn6wBSWGnGT",
        "outputId": "c334081d-0568-49ec-b411-295bc963e6e7",
        "colab": {
          "referenced_widgets": [
            "d141335519bb4fd2b79e45894a666f96"
          ]
        }
      },
      "outputs": [
        {
          "data": {
            "application/vnd.jupyter.widget-view+json": {
              "model_id": "d141335519bb4fd2b79e45894a666f96",
              "version_major": 2,
              "version_minor": 0
            },
            "text/plain": [
              "interactive(children=(FloatSlider(value=0.0, description='w', max=2.0, min=-2.0), FloatSlider(value=0.0, descr…"
            ]
          },
          "metadata": {},
          "output_type": "display_data"
        }
      ],
      "source": [
        "interactive_plot = interactive(plot_interactive, w=(-2.0, 2.0), b=(-3, 3, 0.5), func=fixed(elu), ylim=fixed((-2, 10)))\n",
        "interactive_plot"
      ]
    },
    {
      "cell_type": "markdown",
      "metadata": {
        "id": "OlnHCZINGnGT"
      },
      "source": [
        "# Tabela das Funções de Ativação"
      ]
    },
    {
      "cell_type": "markdown",
      "metadata": {
        "id": "EPKjf4G5GnGT"
      },
      "source": [
        "<img src=\"images/funcoes_de_ativacao.png\" width='700'>"
      ]
    },
    {
      "cell_type": "markdown",
      "metadata": {
        "id": "bOkTheBIGnGU"
      },
      "source": [
        "# Referências"
      ]
    },
    {
      "cell_type": "markdown",
      "metadata": {
        "id": "DH7U2tI0GnGU"
      },
      "source": [
        "- [Tabela das funções de ativação](https://en.wikipedia.org/wiki/Activation_function)\n",
        "- [Towards Data Science](https://medium.com/towards-data-science/activation-functions-neural-networks-1cbd9f8d91d6)\n",
        "- [Stack Exchange](https://stats.stackexchange.com/questions/115258/comprehensive-list-of-activation-functions-in-neural-networks-with-pros-cons)"
      ]
    }
  ],
  "metadata": {
    "kernelspec": {
      "display_name": "Python 3",
      "language": "python",
      "name": "python3"
    },
    "language_info": {
      "codemirror_mode": {
        "name": "ipython",
        "version": 3
      },
      "file_extension": ".py",
      "mimetype": "text/x-python",
      "name": "python",
      "nbconvert_exporter": "python",
      "pygments_lexer": "ipython3",
      "version": "3.6.13"
    },
    "colab": {
      "name": "funcoes_de_ativacao.ipynb",
      "provenance": []
    }
  },
  "nbformat": 4,
  "nbformat_minor": 0
}